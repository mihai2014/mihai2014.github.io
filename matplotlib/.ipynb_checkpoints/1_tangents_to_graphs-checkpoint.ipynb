{
 "cells": [
  {
   "cell_type": "markdown",
   "id": "4ce2a550-89a5-4713-b894-c15c419ae41b",
   "metadata": {},
   "source": [
    "# Drawing tangents to graphs"
   ]
  },
  {
   "cell_type": "markdown",
   "id": "2a2d6e3e-a27b-4dd0-a197-3eb5b9d7d0d3",
   "metadata": {},
   "source": [
    "## Quadratic function"
   ]
  },
  {
   "cell_type": "markdown",
   "id": "32ea94df-93fd-4984-9558-0ade268fa4c3",
   "metadata": {},
   "source": [
    "$ \n",
    "f(x) = 3{ x }^{ 2 }-4x+3 \\\\\n",
    "f'(x)= \\frac { d }{ dx } (3{ x }^{ 2 }-4x+3)=6x-4 \n",
    "$"
   ]
  },
  {
   "cell_type": "code",
   "execution_count": 94,
   "id": "a4673f8d-d32e-4d98-ba25-c733bcb1fec2",
   "metadata": {},
   "outputs": [],
   "source": [
    "import matplotlib.pyplot as plt\n",
    "import numpy as np\n",
    "import sympy as sym\n",
    "\n",
    "def graph(formula, x):    \n",
    "    y = eval(formula) \n",
    "    plt.plot(x, y)  \n",
    "    #plt.show()\n",
    "\n",
    "def tangent(x_axe,f,x_range):\n",
    "    x = sym.Symbol('x')\n",
    "    f_prime = sym.diff(f)    \n",
    "    print(f\"Derivative of {f} is {f_prime}\")\n",
    "    \n",
    "    #the slope of tangent line to graph\n",
    "    m = f_prime.subs(x,x_axe)\n",
    "\n",
    "    #tangent point\n",
    "    f = eval(f)\n",
    "    y_axe = f.subs(x,x_axe)\n",
    "    \n",
    "    plt.plot(x_axe, y_axe, 'o')\n",
    "    plt.text(x_axe, y_axe, '('+str(x_axe)+','+str(y_axe)+')', dict(size=10))\n",
    "    \n",
    "    #y = mx+n => n = y - mx\n",
    "    n = y_axe - m*x_axe\n",
    "    tangent_line_expr = str(eval('m*x + n'))\n",
    "    print(f\"Tangent line at point ({x_axe},{y_axe}): {tangent_line_expr}\")\n",
    "    \n",
    "    #print(tangent_point)\n",
    "    graph(tangent_line_expr,x_range)"
   ]
  },
  {
   "cell_type": "code",
   "execution_count": 95,
   "id": "5ac5b326-e503-4ace-9a39-c1cb82a8159f",
   "metadata": {},
   "outputs": [
    {
     "name": "stdout",
     "output_type": "stream",
     "text": [
      "Derivative of 3*x**2-4*x+3 is 6*x - 4\n",
      "Tangent line at point (9,210): 50*x - 240\n",
      "Derivative of 3*x**2-4*x+3 is 6*x - 4\n",
      "Tangent line at point (-5,98): -34*x - 72\n"
     ]
    },
    {
     "data": {
      "image/png": "[encoded data removed]",
      "text/plain": [
       "<Figure size 432x288 with 1 Axes>"
      ]
     },
     "metadata": {
      "needs_background": "light"
     },
     "output_type": "display_data"
    }
   ],
   "source": [
    "x_range = np.linspace(-20,21,100)\n",
    "f = '3*x**2-4*x+3'\n",
    "\n",
    "graph(f, x_range)\n",
    "tangent(9,f,x_range)\n",
    "tangent(-5,f,x_range)\n",
    "\n",
    "#oy axe range\n",
    "plt.ylim(-10,400)\n",
    "plt.title(r\"$f(x) = 3{ x }^{ 2 }-4x+3$\",)\n",
    "plt.show() "
   ]
  },
  {
   "cell_type": "code",
   "execution_count": null,
   "id": "4ebdb53d-e94c-48da-b1bf-3e22859ab4be",
   "metadata": {},
   "outputs": [],
   "source": []
  },
  {
   "cell_type": "code",
   "execution_count": null,
   "id": "72a6ce89-c84d-40b9-8d19-8f6fcca0ac4e",
   "metadata": {},
   "outputs": [],
   "source": []
  }
 ],
 "metadata": {
  "kernelspec": {
   "display_name": "Python 3",
   "language": "python",
   "name": "python3"
  },
  "language_info": {
   "codemirror_mode": {
    "name": "ipython",
    "version": 3
   },
   "file_extension": ".py",
   "mimetype": "text/x-python",
   "name": "python",
   "nbconvert_exporter": "python",
   "pygments_lexer": "ipython3",
   "version": "3.8.8"
  }
 },
 "nbformat": 4,
 "nbformat_minor": 5
}
