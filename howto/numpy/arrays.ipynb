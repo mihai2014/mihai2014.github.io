{
 "cells": [
  {
   "cell_type": "markdown",
   "id": "f33b6285-d886-4121-898e-eaed8902e787",
   "metadata": {},
   "source": [
    "## Slicing arrays"
   ]
  },
  {
   "cell_type": "code",
   "execution_count": null,
   "id": "06f3bb6c-0f66-45e0-8754-0d0aa4800909",
   "metadata": {},
   "outputs": [],
   "source": []
  },
  {
   "cell_type": "code",
   "execution_count": 2,
   "id": "b5806ad6-1a8d-4bce-b3f1-d5c1518119b2",
   "metadata": {},
   "outputs": [],
   "source": [
    "import numpy as np"
   ]
  },
  {
   "cell_type": "code",
   "execution_count": 3,
   "id": "b4c790b2-c6ee-4116-8e23-d5227a487c10",
   "metadata": {},
   "outputs": [
    {
     "name": "stdout",
     "output_type": "stream",
     "text": [
      "[[ 1  2  3  4]\n",
      " [ 5  6  7  8]\n",
      " [ 9 10 11 12]]\n"
     ]
    }
   ],
   "source": [
    "a = np.array([[1,2,3,4],[5,6,7,8],[9,10,11,12]])\n",
    "print(a)"
   ]
  },
  {
   "cell_type": "code",
   "execution_count": 4,
   "id": "a12ce221-ffe7-4ed6-9951-ad44e71118cd",
   "metadata": {},
   "outputs": [
    {
     "data": {
      "text/plain": [
       "array([1, 5, 9])"
      ]
     },
     "execution_count": 4,
     "metadata": {},
     "output_type": "execute_result"
    }
   ],
   "source": [
    "#column 0\n",
    "a[:,0]"
   ]
  },
  {
   "cell_type": "code",
   "execution_count": 5,
   "id": "6bfab1e6-4671-442f-9957-e09c892ad1b2",
   "metadata": {},
   "outputs": [
    {
     "data": {
      "text/plain": [
       "array([ 2,  6, 10])"
      ]
     },
     "execution_count": 5,
     "metadata": {},
     "output_type": "execute_result"
    }
   ],
   "source": [
    "#column 1\n",
    "a[:,1]"
   ]
  },
  {
   "cell_type": "code",
   "execution_count": 6,
   "id": "486ea623-a4a2-4f70-a1a3-12874543c0aa",
   "metadata": {},
   "outputs": [
    {
     "data": {
      "text/plain": [
       "array([[ 2,  3],\n",
       "       [ 6,  7],\n",
       "       [10, 11]])"
      ]
     },
     "execution_count": 6,
     "metadata": {},
     "output_type": "execute_result"
    }
   ],
   "source": [
    "#column 1-2\n",
    "a[:,1:3]"
   ]
  },
  {
   "cell_type": "code",
   "execution_count": 28,
   "id": "49a8d2f9-1d0b-4fb8-bdf7-4015b4569b3f",
   "metadata": {},
   "outputs": [
    {
     "data": {
      "text/plain": [
       "array([[ 1,  3],\n",
       "       [ 5,  7],\n",
       "       [ 9, 11]])"
      ]
     },
     "execution_count": 28,
     "metadata": {},
     "output_type": "execute_result"
    }
   ],
   "source": [
    "#column 0, 2\n",
    "a[:,[0,2]]"
   ]
  },
  {
   "cell_type": "code",
   "execution_count": 7,
   "id": "bbc4ea33-cc44-4815-b177-77e2c9892006",
   "metadata": {},
   "outputs": [
    {
     "data": {
      "text/plain": [
       "array([5, 6, 7, 8])"
      ]
     },
     "execution_count": 7,
     "metadata": {},
     "output_type": "execute_result"
    }
   ],
   "source": [
    "#row 1\n",
    "a[1,:]"
   ]
  },
  {
   "cell_type": "code",
   "execution_count": 8,
   "id": "e9a80238-9bc7-48b3-bd04-2faa77fae229",
   "metadata": {},
   "outputs": [
    {
     "data": {
      "text/plain": [
       "array([[ 5,  6,  7,  8],\n",
       "       [ 9, 10, 11, 12]])"
      ]
     },
     "execution_count": 8,
     "metadata": {},
     "output_type": "execute_result"
    }
   ],
   "source": [
    "#row 1-2\n",
    "a[1:3,:]"
   ]
  },
  {
   "cell_type": "code",
   "execution_count": null,
   "id": "a7f2a9b1-7c6c-4167-8d4c-4c5bb6cc45af",
   "metadata": {},
   "outputs": [],
   "source": []
  },
  {
   "cell_type": "markdown",
   "id": "922ee6f8-f737-403e-8051-5518100a685c",
   "metadata": {},
   "source": [
    "## Select data with conditions"
   ]
  },
  {
   "cell_type": "code",
   "execution_count": 15,
   "id": "94babf47-4d9c-4cc7-a205-94f2affec081",
   "metadata": {},
   "outputs": [
    {
     "data": {
      "text/plain": [
       "array([ 4,  8, 12])"
      ]
     },
     "execution_count": 15,
     "metadata": {},
     "output_type": "execute_result"
    }
   ],
   "source": [
    "# column 3\n",
    "a[:,3]"
   ]
  },
  {
   "cell_type": "code",
   "execution_count": 16,
   "id": "a31c4e64-5cfb-42d1-826b-2da8a24e1fed",
   "metadata": {},
   "outputs": [
    {
     "data": {
      "text/plain": [
       "array([False,  True,  True])"
      ]
     },
     "execution_count": 16,
     "metadata": {},
     "output_type": "execute_result"
    }
   ],
   "source": [
    "#column 3 where condition\n",
    "a[:,3]>=8"
   ]
  },
  {
   "cell_type": "code",
   "execution_count": 18,
   "id": "4be5cd48-1b22-439c-bc16-6536d07d10cb",
   "metadata": {},
   "outputs": [
    {
     "data": {
      "text/plain": [
       "array([[ 5,  6,  7,  8],\n",
       "       [ 9, 10, 11, 12]])"
      ]
     },
     "execution_count": 18,
     "metadata": {},
     "output_type": "execute_result"
    }
   ],
   "source": [
    "#rows where condition in column\n",
    "a[a[:,3]>=8]"
   ]
  },
  {
   "cell_type": "code",
   "execution_count": 39,
   "id": "39836008-1bce-4d97-a31e-d76e0840f20d",
   "metadata": {},
   "outputs": [
    {
     "data": {
      "text/plain": [
       "array([[ 5,  6,  7,  8],\n",
       "       [ 9, 10, 11, 12]])"
      ]
     },
     "execution_count": 39,
     "metadata": {},
     "output_type": "execute_result"
    }
   ],
   "source": [
    "#rows where condition in column\n",
    "a[a[:,0] > 3]"
   ]
  },
  {
   "cell_type": "code",
   "execution_count": 38,
   "id": "7342100f-4135-41df-85c3-ed86cbfe19c9",
   "metadata": {},
   "outputs": [
    {
     "data": {
      "text/plain": [
       "array([[ 5,  6,  8],\n",
       "       [ 9, 10, 12]])"
      ]
     },
     "execution_count": 38,
     "metadata": {},
     "output_type": "execute_result"
    }
   ],
   "source": [
    "a[a[:,0] > 3][:,np.array([True, True, False, True])] #select/filter columns"
   ]
  },
  {
   "cell_type": "code",
   "execution_count": null,
   "id": "3efd9706-07bf-4c62-a9fd-9a5e02beba76",
   "metadata": {},
   "outputs": [],
   "source": []
  },
  {
   "cell_type": "markdown",
   "id": "19f82303-3cda-4455-86d4-0a38c0a080b7",
   "metadata": {},
   "source": [
    "## Transpoze data"
   ]
  },
  {
   "cell_type": "code",
   "execution_count": 20,
   "id": "11c91c2c-b79c-46f2-b8d7-74ddaddce988",
   "metadata": {},
   "outputs": [],
   "source": [
    "#transpoze\n",
    "at = a.T"
   ]
  },
  {
   "cell_type": "code",
   "execution_count": 21,
   "id": "e6e6b21a-e550-4cd3-82e0-e09654f3712c",
   "metadata": {},
   "outputs": [
    {
     "data": {
      "text/plain": [
       "array([[ 1,  5,  9],\n",
       "       [ 2,  6, 10],\n",
       "       [ 3,  7, 11],\n",
       "       [ 4,  8, 12]])"
      ]
     },
     "execution_count": 21,
     "metadata": {},
     "output_type": "execute_result"
    }
   ],
   "source": [
    "at"
   ]
  },
  {
   "cell_type": "code",
   "execution_count": 35,
   "id": "4c10f6b5-f9ea-4d65-84bf-ba558e4975b3",
   "metadata": {},
   "outputs": [
    {
     "name": "stdout",
     "output_type": "stream",
     "text": [
      "[ True False False  True]\n"
     ]
    }
   ],
   "source": [
    "#rows where col 0 = 1 and 4\n",
    "condition = (a[0,:]==1) + (a[0,:]==4)\n",
    "print(condition)"
   ]
  },
  {
   "cell_type": "code",
   "execution_count": 37,
   "id": "dacedae1-9146-422e-a930-a68a3facbcb2",
   "metadata": {},
   "outputs": [
    {
     "data": {
      "text/plain": [
       "array([[ 1,  5,  9],\n",
       "       [ 4,  8, 12]])"
      ]
     },
     "execution_count": 37,
     "metadata": {},
     "output_type": "execute_result"
    }
   ],
   "source": [
    "at[condition]"
   ]
  },
  {
   "cell_type": "code",
   "execution_count": null,
   "id": "f3cc3261-ed02-4918-a508-8dec5baef67a",
   "metadata": {},
   "outputs": [],
   "source": []
  },
  {
   "cell_type": "markdown",
   "id": "c9ca1efd-1885-44f4-b06a-1b5c2a9b4309",
   "metadata": {},
   "source": [
    "## Cartesian product"
   ]
  },
  {
   "cell_type": "code",
   "execution_count": 3,
   "id": "1e325cd4-622e-4d37-873a-71c0164a6dc5",
   "metadata": {},
   "outputs": [
    {
     "data": {
      "text/plain": [
       "array([[1, 4],\n",
       "       [2, 4],\n",
       "       [3, 4],\n",
       "       [1, 5],\n",
       "       [2, 5],\n",
       "       [3, 5]])"
      ]
     },
     "execution_count": 3,
     "metadata": {},
     "output_type": "execute_result"
    }
   ],
   "source": [
    "#cartesian\n",
    "x = np.array([1,2,3])\n",
    "y = np.array([4,5])\n",
    "np.transpose([np.tile(x, len(y)), np.repeat(y, len(x))])"
   ]
  },
  {
   "cell_type": "code",
   "execution_count": null,
   "id": "70ec8104-465b-4cd1-aad8-4d7aadc03b99",
   "metadata": {},
   "outputs": [],
   "source": []
  }
 ],
 "metadata": {
  "kernelspec": {
   "display_name": "Python 3",
   "language": "python",
   "name": "python3"
  },
  "language_info": {
   "codemirror_mode": {
    "name": "ipython",
    "version": 3
   },
   "file_extension": ".py",
   "mimetype": "text/x-python",
   "name": "python",
   "nbconvert_exporter": "python",
   "pygments_lexer": "ipython3",
   "version": "3.8.8"
  }
 },
 "nbformat": 4,
 "nbformat_minor": 5
}
