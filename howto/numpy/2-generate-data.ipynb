{
 "cells": [
  {
   "cell_type": "markdown",
   "id": "f91be584-c5de-40ac-92fd-5ec81a030672",
   "metadata": {},
   "source": [
    "## Generate arrays with random or predefined numbers"
   ]
  },
  {
   "cell_type": "code",
   "execution_count": 1,
   "id": "eeb24b5c-a4ed-43bf-8cc8-db14311ffbc6",
   "metadata": {},
   "outputs": [
    {
     "name": "stdout",
     "output_type": "stream",
     "text": [
      "[4.64136008e-310 0.00000000e+000 1.58101007e-322]\n"
     ]
    }
   ],
   "source": [
    "import numpy as np\n",
    "from numpy import random\n",
    "\n",
    "#create empty array\n",
    "a =  np.empty([3])\n",
    "print(a)"
   ]
  },
  {
   "cell_type": "code",
   "execution_count": 2,
   "id": "393a9856-c32b-4776-8d1e-a02cac01d55e",
   "metadata": {},
   "outputs": [
    {
     "name": "stdout",
     "output_type": "stream",
     "text": [
      "[[1. 1. 1.]\n",
      " [1. 1. 1.]]\n"
     ]
    }
   ],
   "source": [
    "#create array with ones\n",
    "a = np.ones([2,3])\n",
    "print(a)"
   ]
  },
  {
   "cell_type": "code",
   "execution_count": 3,
   "id": "882bc527-22f7-4972-a19d-9fb2c59743b9",
   "metadata": {},
   "outputs": [
    {
     "name": "stdout",
     "output_type": "stream",
     "text": [
      "[[0. 0. 0. 0. 0.]\n",
      " [0. 0. 0. 0. 0.]\n",
      " [0. 0. 0. 0. 0.]]\n"
     ]
    }
   ],
   "source": [
    "#create array with zeros\n",
    "a = np.zeros([3,5])\n",
    "print(a)"
   ]
  },
  {
   "cell_type": "code",
   "execution_count": null,
   "id": "d53f9b1b-08f3-4fbb-8086-32d641b30f07",
   "metadata": {},
   "outputs": [],
   "source": []
  },
  {
   "cell_type": "code",
   "execution_count": 4,
   "id": "861c4522-d9eb-4951-9884-78a8dcb75d80",
   "metadata": {},
   "outputs": [
    {
     "data": {
      "text/plain": [
       "4"
      ]
     },
     "execution_count": 4,
     "metadata": {},
     "output_type": "execute_result"
    }
   ],
   "source": [
    "#random integer from 0 to 5\n",
    "random.randint(5)"
   ]
  },
  {
   "cell_type": "code",
   "execution_count": 5,
   "id": "5c56b904-e691-4a4e-b939-a3cd701c0e27",
   "metadata": {},
   "outputs": [
    {
     "data": {
      "text/plain": [
       "array([[2, 1, 1, 0, 3],\n",
       "       [4, 0, 4, 1, 2],\n",
       "       [0, 3, 3, 2, 3]])"
      ]
     },
     "execution_count": 5,
     "metadata": {},
     "output_type": "execute_result"
    }
   ],
   "source": [
    "#array with random int from 0 to 5 and dim (3,5)\n",
    "random.randint(5, size=(3, 5))"
   ]
  },
  {
   "cell_type": "code",
   "execution_count": null,
   "id": "b10fd2c7-5df9-4474-8d03-b51760decca7",
   "metadata": {},
   "outputs": [],
   "source": []
  },
  {
   "cell_type": "code",
   "execution_count": 6,
   "id": "1ce40f8f-e8dd-4726-a5ae-73441acf4192",
   "metadata": {},
   "outputs": [
    {
     "data": {
      "text/plain": [
       "0.19057158890417292"
      ]
     },
     "execution_count": 6,
     "metadata": {},
     "output_type": "execute_result"
    }
   ],
   "source": [
    "#random float from 0 to 1\n",
    "random.rand()"
   ]
  },
  {
   "cell_type": "code",
   "execution_count": 7,
   "id": "7ef990ec-207c-401b-bb1b-ed2dbdacba76",
   "metadata": {},
   "outputs": [
    {
     "data": {
      "text/plain": [
       "array([[0.77054253, 0.18653799, 0.67338338, 0.64234377, 0.34576529],\n",
       "       [0.75605162, 0.13783815, 0.53607811, 0.06650575, 0.36245488],\n",
       "       [0.80276601, 0.13417592, 0.38245341, 0.3449446 , 0.0088425 ]])"
      ]
     },
     "execution_count": 7,
     "metadata": {},
     "output_type": "execute_result"
    }
   ],
   "source": [
    "#array with random float between 0 and 1 and dim (3,5)\n",
    "random.rand(3, 5)"
   ]
  },
  {
   "cell_type": "code",
   "execution_count": null,
   "id": "ea41f271-1134-414f-a65a-2011137ae110",
   "metadata": {},
   "outputs": [],
   "source": []
  },
  {
   "cell_type": "code",
   "execution_count": 8,
   "id": "eded06e3-830b-4974-8ec4-5a0dbdbc3963",
   "metadata": {},
   "outputs": [
    {
     "data": {
      "text/plain": [
       "3"
      ]
     },
     "execution_count": 8,
     "metadata": {},
     "output_type": "execute_result"
    }
   ],
   "source": [
    "#random number from array\n",
    "random.choice([3, 5, 7, 9])"
   ]
  },
  {
   "cell_type": "code",
   "execution_count": 9,
   "id": "827bba7b-3676-4d0d-b4a9-41e213e05763",
   "metadata": {},
   "outputs": [
    {
     "data": {
      "text/plain": [
       "array([[3, 9, 7, 7, 3],\n",
       "       [3, 7, 3, 3, 7],\n",
       "       [3, 5, 3, 7, 5]])"
      ]
     },
     "execution_count": 9,
     "metadata": {},
     "output_type": "execute_result"
    }
   ],
   "source": [
    "#array with random choice from array nd dim (3,5)\n",
    "random.choice([3, 5, 7, 9], size=(3, 5))"
   ]
  },
  {
   "cell_type": "code",
   "execution_count": null,
   "id": "d536974f-ca98-4023-ae46-46281ce7aefc",
   "metadata": {},
   "outputs": [],
   "source": []
  }
 ],
 "metadata": {
  "kernelspec": {
   "display_name": "Python 3",
   "language": "python",
   "name": "python3"
  },
  "language_info": {
   "codemirror_mode": {
    "name": "ipython",
    "version": 3
   },
   "file_extension": ".py",
   "mimetype": "text/x-python",
   "name": "python",
   "nbconvert_exporter": "python",
   "pygments_lexer": "ipython3",
   "version": "3.8.8"
  }
 },
 "nbformat": 4,
 "nbformat_minor": 5
}
