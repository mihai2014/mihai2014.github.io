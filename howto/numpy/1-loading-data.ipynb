{
 "cells": [
  {
   "cell_type": "markdown",
   "id": "daac2d9c-0fa6-4d54-977d-af1fd131f7d5",
   "metadata": {},
   "source": [
    "### Loading/import data from file"
   ]
  },
  {
   "cell_type": "code",
   "execution_count": 20,
   "id": "378bfc2b-b415-410d-bc0b-386cd44214c5",
   "metadata": {},
   "outputs": [
    {
     "name": "stdout",
     "output_type": "stream",
     "text": [
      "            0             1           2                 3            4   \\\n",
      "0  pickup_year  pickup_month  pickup_day  pickup_dayofweek  pickup_time   \n",
      "1         2016             1           1                 5            0   \n",
      "\n",
      "                     5                      6              7            8   \\\n",
      "0  pickup_location_code  dropoff_location_code  trip_distance  trip_length   \n",
      "1                     2                      4          21.00         2037   \n",
      "\n",
      "            9            10            11          12            13  \\\n",
      "0  fare_amount  fees_amount  tolls_amount  tip_amount  total_amount   \n",
      "1         52.0          0.8          5.54       11.65         69.99   \n",
      "\n",
      "             14  \n",
      "0  payment_type  \n",
      "1             1  \n",
      "[['pickup_year' 'pickup_month' 'pickup_day' 'pickup_dayofweek'\n",
      "  'pickup_time' 'pickup_location_code' 'dropoff_location_code'\n",
      "  'trip_distance' 'trip_length' 'fare_amount' 'fees_amount'\n",
      "  'tolls_amount' 'tip_amount' 'total_amount' 'payment_type']\n",
      " ['2016' '1' '1' '5' '0' '2' '4' '21.00' '2037' '52.0' '0.8' '5.54'\n",
      "  '11.65' '69.99' '1']]\n"
     ]
    }
   ],
   "source": [
    "import pandas as pd\n",
    "df=pd.read_csv('nyc_taxis.csv', sep=',',header=None)\n",
    "print(df.head(2))\n",
    "ndarray = df.to_numpy()\n",
    "print(ndarray[:2,:])"
   ]
  },
  {
   "cell_type": "code",
   "execution_count": 17,
   "id": "ec1c7234-fd4d-460d-b40f-b6bfc60ac23c",
   "metadata": {},
   "outputs": [
    {
     "name": "stdout",
     "output_type": "stream",
     "text": [
      "[[      nan       nan       nan       nan       nan       nan       nan\n",
      "        nan       nan       nan       nan       nan       nan       nan\n",
      "        nan]\n",
      " [2.016e+03 1.000e+00 1.000e+00 5.000e+00 0.000e+00 2.000e+00 4.000e+00\n",
      "  2.100e+01 2.037e+03 5.200e+01 8.000e-01 5.540e+00 1.165e+01 6.999e+01\n",
      "  1.000e+00]]\n"
     ]
    }
   ],
   "source": [
    "from numpy import genfromtxt\n",
    "my_data = genfromtxt('nyc_taxis.csv', delimiter=',')\n",
    "print(my_data[:2,:])    "
   ]
  },
  {
   "cell_type": "code",
   "execution_count": 16,
   "id": "1e500b85-f9ca-429f-b6ee-6a12f42dfed4",
   "metadata": {},
   "outputs": [
    {
     "name": "stdout",
     "output_type": "stream",
     "text": [
      "(5, 15)\n",
      "[[2016.0 1.0 1.0 5.0 0.0 2.0 4.0 21.0 2037.0 52.0 0.8 5.54 11.65 69.99\n",
      "  1.0]\n",
      " [2016.0 1.0 1.0 5.0 0.0 2.0 1.0 16.29 1520.0 45.0 1.3 0.0 8.0 54.3 1.0]]\n"
     ]
    }
   ],
   "source": [
    "import csv\n",
    "import numpy as np\n",
    "\n",
    "# import nyc_taxi.csv as a list of lists\n",
    "f = open(\"nyc_taxis.csv\", \"r\")\n",
    "taxi_list = list(csv.reader(f))\n",
    "\n",
    "# remove the header row\n",
    "taxi_list = taxi_list[1:]\n",
    "\n",
    "# convert all values to floats\n",
    "converted_taxi_list = []\n",
    "for row in taxi_list:\n",
    "    converted_row = []\n",
    "    for item in row:\n",
    "        converted_row.append(float(item))\n",
    "    converted_taxi_list.append(converted_row)\n",
    "\n",
    "taxi = np.array(converted_taxi_list, dtype=object)\n",
    "print(taxi.shape)\n",
    "print(taxi[:2,:])"
   ]
  },
  {
   "cell_type": "raw",
   "id": "48e3105f-eeab-43cb-a78b-5177a7ba274d",
   "metadata": {},
   "source": [
    "https://stackoverflow.com/questions/3518778/how-do-i-read-csv-data-into-a-record-array-in-numpy\n",
    "manipulating huge amount of data    "
   ]
  },
  {
   "cell_type": "code",
   "execution_count": 25,
   "id": "733d4747-2ce3-44e3-8199-0797d815f4ad",
   "metadata": {},
   "outputs": [
    {
     "name": "stdout",
     "output_type": "stream",
     "text": [
      "<class 'pandas.core.frame.DataFrame'>\n",
      "<class 'numpy.ndarray'>\n"
     ]
    }
   ],
   "source": [
    "import pandas as pd\n",
    "\n",
    "data = pd.read_csv(\"nyc_taxis.csv\")\n",
    "store = pd.HDFStore('dataset.h5')\n",
    "store['mydata'] = data\n",
    "store.close()\n",
    "\n",
    "store = pd.HDFStore('dataset.h5')\n",
    "data = store['mydata']\n",
    "store.close()\n",
    "\n",
    "print(type(data))\n",
    "#data to numpy format\n",
    "data = data.values\n",
    "print(type(data))"
   ]
  },
  {
   "cell_type": "code",
   "execution_count": 5,
   "id": "dcbcdde9-39a3-43a9-a0a9-2ce621a41136",
   "metadata": {},
   "outputs": [],
   "source": [
    "import pandas as pd\n",
    "from numpy.random import randn\n",
    "\n",
    "bar = pd.DataFrame(randn(10, 4))\n",
    "store = pd.HDFStore('test.h5')\n",
    "store['foo'] = bar   # write to HDF5\n",
    "bar = store['foo']   # retrieve\n",
    "store.close()"
   ]
  },
  {
   "cell_type": "code",
   "execution_count": null,
   "id": "bb2908cf-4b5b-4192-bbc2-086cf31d952d",
   "metadata": {},
   "outputs": [],
   "source": []
  }
 ],
 "metadata": {
  "kernelspec": {
   "display_name": "Python 3",
   "language": "python",
   "name": "python3"
  },
  "language_info": {
   "codemirror_mode": {
    "name": "ipython",
    "version": 3
   },
   "file_extension": ".py",
   "mimetype": "text/x-python",
   "name": "python",
   "nbconvert_exporter": "python",
   "pygments_lexer": "ipython3",
   "version": "3.8.8"
  }
 },
 "nbformat": 4,
 "nbformat_minor": 5
}
