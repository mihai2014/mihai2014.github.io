{
 "cells": [
  {
   "cell_type": "markdown",
   "id": "1cbec2fe-5fe8-4b3c-8db8-99d3fdb0f7b1",
   "metadata": {},
   "source": [
    "#### Diagonals"
   ]
  },
  {
   "cell_type": "code",
   "execution_count": 79,
   "id": "b5b341c6-7761-4086-a3eb-be0bd875c2eb",
   "metadata": {},
   "outputs": [
    {
     "name": "stdout",
     "output_type": "stream",
     "text": [
      "[[1 0 0 0 0]\n",
      " [0 1 0 0 0]\n",
      " [0 0 1 0 0]\n",
      " [0 0 0 1 0]\n",
      " [0 0 0 0 1]]\n"
     ]
    }
   ],
   "source": [
    "a = np.zeros((5,5), dtype = np.int8)\n",
    "np.fill_diagonal(a, 1)\n",
    "print(a)"
   ]
  },
  {
   "cell_type": "code",
   "execution_count": 86,
   "id": "bc7019ab-37cd-4f0a-84ba-fc40d30d7244",
   "metadata": {},
   "outputs": [
    {
     "data": {
      "text/plain": [
       "array([[1, 0, 0, 0, 0],\n",
       "       [0, 1, 0, 0, 0],\n",
       "       [0, 0, 1, 0, 0],\n",
       "       [0, 0, 0, 1, 0],\n",
       "       [0, 0, 0, 0, 1]], dtype=int8)"
      ]
     },
     "execution_count": 86,
     "metadata": {},
     "output_type": "execute_result"
    }
   ],
   "source": [
    "np.diag(np.full(5,1,np.int8))"
   ]
  },
  {
   "cell_type": "code",
   "execution_count": 105,
   "id": "cea1127a-3960-4e48-bfad-80f20fa4f6cf",
   "metadata": {},
   "outputs": [
    {
     "name": "stdout",
     "output_type": "stream",
     "text": [
      "[[0 0 1]\n",
      " [0 2 0]\n",
      " [3 0 0]]\n",
      "[[0 0 3]\n",
      " [0 2 0]\n",
      " [1 0 0]]\n",
      "[[1 0 3]\n",
      " [0 2 0]\n",
      " [1 0 3]]\n"
     ]
    }
   ],
   "source": [
    "a = np.zeros((3, 3), np.int8);\n",
    "np.fill_diagonal(np.fliplr(a), [1,2,3])  # Horizontal flip\n",
    "print(a)\n",
    "np.fill_diagonal(np.flipud(a), [1,2,3]) # Vertical flip\n",
    "print(a)\n",
    "np.fill_diagonal(a, [1,2,3])\n",
    "print(a)"
   ]
  },
  {
   "cell_type": "code",
   "execution_count": 91,
   "id": "efed8e0c-dbac-4055-9a1c-d9b5018f1217",
   "metadata": {},
   "outputs": [
    {
     "name": "stdout",
     "output_type": "stream",
     "text": [
      "[[0 0 0 0 1]\n",
      " [0 0 0 1 0]\n",
      " [0 0 1 0 0]\n",
      " [0 1 0 0 0]\n",
      " [1 0 0 0 0]]\n"
     ]
    }
   ],
   "source": [
    "a = np.zeros((5,5), dtype = np.int8)\n",
    "np.fill_diagonal(np.flipud(a), np.full(5,1,np.int8))\n",
    "print(a)"
   ]
  },
  {
   "cell_type": "code",
   "execution_count": 90,
   "id": "0748d200-d336-4502-b8d8-41b106b9e037",
   "metadata": {},
   "outputs": [
    {
     "data": {
      "text/plain": [
       "array([[0, 0, 0, 0, 1],\n",
       "       [0, 0, 0, 1, 0],\n",
       "       [0, 0, 1, 0, 0],\n",
       "       [0, 1, 0, 0, 0],\n",
       "       [1, 0, 0, 0, 0]], dtype=int8)"
      ]
     },
     "execution_count": 90,
     "metadata": {},
     "output_type": "execute_result"
    }
   ],
   "source": [
    "a"
   ]
  },
  {
   "cell_type": "code",
   "execution_count": null,
   "id": "d06eab57-a0da-4e9f-b561-dc481fac11d2",
   "metadata": {},
   "outputs": [],
   "source": []
  }
 ],
 "metadata": {
  "kernelspec": {
   "display_name": "Python 3",
   "language": "python",
   "name": "python3"
  },
  "language_info": {
   "codemirror_mode": {
    "name": "ipython",
    "version": 3
   },
   "file_extension": ".py",
   "mimetype": "text/x-python",
   "name": "python",
   "nbconvert_exporter": "python",
   "pygments_lexer": "ipython3",
   "version": "3.8.10"
  }
 },
 "nbformat": 4,
 "nbformat_minor": 5
}
