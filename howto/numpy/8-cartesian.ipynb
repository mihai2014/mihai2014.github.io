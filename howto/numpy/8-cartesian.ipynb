{
 "cells": [
  {
   "cell_type": "markdown",
   "id": "c9ca1efd-1885-44f4-b06a-1b5c2a9b4309",
   "metadata": {},
   "source": [
    "## Cartesian product"
   ]
  },
  {
   "cell_type": "code",
   "execution_count": 19,
   "id": "70ec8104-465b-4cd1-aad8-4d7aadc03b99",
   "metadata": {},
   "outputs": [
    {
     "data": {
      "text/plain": [
       "array([[1, 4],\n",
       "       [2, 4],\n",
       "       [3, 4],\n",
       "       [1, 5],\n",
       "       [2, 5],\n",
       "       [3, 5]])"
      ]
     },
     "execution_count": 19,
     "metadata": {},
     "output_type": "execute_result"
    }
   ],
   "source": [
    "def cartesian(x,y):\n",
    "    #return np.transpose( [ np.tile(x, len(y)), np.repeat(y, len(x)) ] )\n",
    "    a = np.tile(x, len(y))\n",
    "    b = np.repeat(y, len(x))\n",
    "    m = np.array([a,b])\n",
    "    return m.T\n",
    "cartesian(np.array([1,2,3]),np.array([4,5]))"
   ]
  },
  {
   "cell_type": "code",
   "execution_count": null,
   "id": "83087940-0bbc-4279-9545-5ea54199d49f",
   "metadata": {},
   "outputs": [],
   "source": []
  }
 ],
 "metadata": {
  "kernelspec": {
   "display_name": "Python 3",
   "language": "python",
   "name": "python3"
  },
  "language_info": {
   "codemirror_mode": {
    "name": "ipython",
    "version": 3
   },
   "file_extension": ".py",
   "mimetype": "text/x-python",
   "name": "python",
   "nbconvert_exporter": "python",
   "pygments_lexer": "ipython3",
   "version": "3.8.10"
  }
 },
 "nbformat": 4,
 "nbformat_minor": 5
}
