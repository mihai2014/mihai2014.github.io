{
 "cells": [
  {
   "cell_type": "markdown",
   "id": "8cb4136f-f8c1-405d-94b6-452a877f3166",
   "metadata": {},
   "source": [
    "# Creating, indexing and slicing and reshaping arrays"
   ]
  },
  {
   "cell_type": "markdown",
   "id": "6ae187a6-5830-47a4-8bf5-c647fac6488e",
   "metadata": {},
   "source": [
    "### Create and convert data to numpy arrays"
   ]
  },
  {
   "cell_type": "code",
   "execution_count": 1,
   "id": "d980f8b2-2d1c-42b4-8d79-a3547302a284",
   "metadata": {},
   "outputs": [
    {
     "name": "stdout",
     "output_type": "stream",
     "text": [
      "data1 is <class 'list'>\n",
      "data1 is now <class 'numpy.ndarray'>\n",
      "data2=\n",
      "[ 5 10 15 20]\n",
      "data2 dimensions: (4,)\n",
      "data3=\n",
      "[[11 22]\n",
      " [33 44]\n",
      " [55 66]]\n",
      "data3 dimensions: (3, 2)\n",
      "data4=\n",
      "[[[1 2 3]\n",
      "  [4 5 6]]\n",
      "\n",
      " [[1 2 3]\n",
      "  [4 5 6]]]\n",
      "data4 dimensions: (2, 2, 3)\n"
     ]
    }
   ],
   "source": [
    "import numpy as np\n",
    "\n",
    "#convert to and create numpy nd(imensional)arrays\n",
    "data1 = [10, 20, 30]\n",
    "print(f\"data1 is {type(data1)}\")\n",
    "data1 = np.array(data1)\n",
    "print(f\"data1 is now {type(data1)}\")\n",
    "\n",
    "#one dimensional\n",
    "data2 = np.array([5, 10, 15, 20])\n",
    "print(f\"data2=\\n{data2}\")\n",
    "print(f\"data2 dimensions: {data2.shape}\")\n",
    "\n",
    "#two dimensional\n",
    "data3 = np.array([[11,22],\n",
    "                  [33,44],\n",
    "                  [55,66]])\n",
    "print(f\"data3=\\n{data3}\")\n",
    "print(f\"data3 dimensions: {data3.shape}\")\n",
    "\n",
    "data4 = np.array([[[1,2,3], [4,5,6]], \n",
    "                  [[1,2,3], [4,5,6]]])\n",
    "print(f\"data4=\\n{data4}\")\n",
    "print(f\"data4 dimensions: {data4.shape}\")"
   ]
  },
  {
   "cell_type": "markdown",
   "id": "a082eb45-b8d0-46dc-b31a-1216fc3c7ec9",
   "metadata": {},
   "source": [
    "### Indexing arrays"
   ]
  },
  {
   "cell_type": "code",
   "execution_count": 2,
   "id": "75c267f3-1306-456f-b68c-17357a147fe1",
   "metadata": {},
   "outputs": [],
   "source": [
    "# positive indexing\n",
    "#  0  1  2  3  4\n",
    "# [11,22,33,44,55]\n",
    "# -5 -4 -3 -2 -1\n",
    "# negative indexing  "
   ]
  },
  {
   "cell_type": "code",
   "execution_count": 3,
   "id": "25456377-e78d-4ce4-9604-b68cfcbbee35",
   "metadata": {},
   "outputs": [],
   "source": [
    "data1 = np.array([11,22,33,44,55])"
   ]
  },
  {
   "cell_type": "code",
   "execution_count": 4,
   "id": "25036775-65c1-4ee4-b911-51227f805f92",
   "metadata": {},
   "outputs": [
    {
     "name": "stdout",
     "output_type": "stream",
     "text": [
      "data1=[11 22 33 44 55]\n",
      "data1[0]=11 data1[1]=22\n",
      "data1[-1]=55 data1[-2]=44 data1[-5]=11\n"
     ]
    }
   ],
   "source": [
    "#indexing one dimensional array\n",
    "print(f\"data1={data1}\")\n",
    "print(f\"data1[0]={data1[0]}\",f\"data1[1]={data1[1]}\")\n",
    "print(f\"data1[-1]={data1[-1]}\",f\"data1[-2]={data1[-2]}\",f\"data1[-5]={data1[-5]}\")"
   ]
  },
  {
   "cell_type": "code",
   "execution_count": 5,
   "id": "11b4e988-2088-4825-81cf-1124f2291010",
   "metadata": {},
   "outputs": [],
   "source": [
    "data2 = np.array([[11,22],\n",
    "                 [33,44],\n",
    "                 [55,66]])"
   ]
  },
  {
   "cell_type": "code",
   "execution_count": 6,
   "id": "887f6c96-cda9-4a13-a34a-af64c699e01d",
   "metadata": {},
   "outputs": [
    {
     "name": "stdout",
     "output_type": "stream",
     "text": [
      "data2=\n",
      "[[11 22]\n",
      " [33 44]\n",
      " [55 66]]\n",
      "data2[0,0]=11\n",
      "1st row of data2[0,]=[11 22]\n"
     ]
    }
   ],
   "source": [
    "#indexing two dimensional array\n",
    "print(f\"data2=\\n{data2}\")\n",
    "#element (0,0)\n",
    "print(f\"data2[0,0]={data2[0,0]}\")\n",
    "#1st row\n",
    "print(f\"1st row of data2[0,]={data2[0,]}\")"
   ]
  },
  {
   "cell_type": "markdown",
   "id": "4e5c450b-94c4-41a5-8d4c-be5d733adf2b",
   "metadata": {},
   "source": [
    "### Slicing arrays"
   ]
  },
  {
   "cell_type": "code",
   "execution_count": 7,
   "id": "d21dc21f-b615-41a9-b19f-ca8f1501c772",
   "metadata": {},
   "outputs": [],
   "source": [
    "# positive indexing\n",
    "#   0  1  2  3  4\n",
    "# positive slicing\n",
    "#   0  1  2  3  4  5\n",
    "# [11,22,33,44,55]\n",
    "# negative indexing \n",
    "#  -5 -4 -3 -2 -1\n",
    "# negative slicing\n",
    "#  -5 -4 -3 -2 -1 \n",
    "#\n",
    "# slicing (from left to right): array[index1:index2], array[index1:], array[:index1]"
   ]
  },
  {
   "cell_type": "code",
   "execution_count": 8,
   "id": "943ba7f5-8393-4fa9-9b41-877c1ea35c9a",
   "metadata": {},
   "outputs": [
    {
     "name": "stdout",
     "output_type": "stream",
     "text": [
      "data1=[11 22 33 44 55]\n",
      "\n",
      "data1[:]=[11 22 33 44 55]\n",
      "\n",
      "data1[:1]=[11]\n",
      "data1[0:1]=[11]\n",
      "data1[0:2]=[11 22]\n",
      "data1[2:5]=[33 44 55]\n",
      "data1[2:]=[33 44 55]\n",
      "\n",
      "data1[-1:]=[55]\n",
      "data1[-3:]=[33 44 55]\n",
      "data1[-5:-3]=[11 22]\n"
     ]
    }
   ],
   "source": [
    "print(f\"data1={data1}\")\n",
    "print(\"\")\n",
    "#access all data in an array\n",
    "print(f\"data1[:]={data1[:]}\")\n",
    "print(\"\")\n",
    "#positive slicing of a subset of a one-dimensional array\n",
    "print(f\"data1[:1]={data1[:1]}\")\n",
    "print(f\"data1[0:1]={data1[0:1]}\")\n",
    "print(f\"data1[0:2]={data1[0:2]}\")\n",
    "print(f\"data1[2:5]={data1[2:5]}\")\n",
    "print(f\"data1[2:]={data1[2:]}\")\n",
    "print(\"\")\n",
    "#negative slicing of a one-dimensional array\n",
    "print(f\"data1[-1:]={data1[-1:]}\")\n",
    "print(f\"data1[-3:]={data1[-3:]}\")\n",
    "print(f\"data1[-5:-3]={data1[-5:-3]}\")"
   ]
  },
  {
   "cell_type": "markdown",
   "id": "07f2d194-21cf-4a9d-a4da-95dad3392633",
   "metadata": {},
   "source": [
    "### Example slicing two dimensional array"
   ]
  },
  {
   "cell_type": "code",
   "execution_count": 9,
   "id": "4557f67e-4090-4615-a79e-fa721249e235",
   "metadata": {},
   "outputs": [
    {
     "name": "stdout",
     "output_type": "stream",
     "text": [
      "array=\n",
      "[[11 22 33]\n",
      " [44 55 66]\n",
      " [77 88 99]]\n",
      "X=\n",
      "[[11 22]\n",
      " [44 55]\n",
      " [77 88]]\n",
      "y=\n",
      "[33 66 99]\n",
      "X=\n",
      "[[11 22]\n",
      " [44 55]\n",
      " [77 88]]\n",
      "y=\n",
      "[33 66 99]\n"
     ]
    }
   ],
   "source": [
    "#Split input (X) and variables (y)\n",
    "data = np.array([\n",
    "[11, 22, 33],\n",
    "[44, 55, 66],\n",
    "[77, 88, 99]])\n",
    "print(f\"array=\\n{data}\")\n",
    "# separate data\n",
    "X, y = data[:, :-1], data[:, -1]\n",
    "print(f\"X=\\n{X}\")\n",
    "print(f\"y=\\n{y}\")\n",
    "\n",
    "X, y = (data[:,:2],data[:,2])\n",
    "print(f\"X=\\n{X}\")\n",
    "print(f\"y=\\n{y}\")"
   ]
  },
  {
   "cell_type": "code",
   "execution_count": 10,
   "id": "f1c5ed13-acc2-4376-8c58-4b63b23a2409",
   "metadata": {},
   "outputs": [
    {
     "name": "stdout",
     "output_type": "stream",
     "text": [
      "train data=\n",
      "[[11 22 33]\n",
      " [44 55 66]]\n",
      "test data=\n",
      "[[77 88 99]]\n"
     ]
    }
   ],
   "source": [
    "# split train and test data\n",
    "split = 2\n",
    "train,test = data[:split,:],data[split:,:]\n",
    "print(f\"train data=\\n{train}\")\n",
    "print(f\"test data=\\n{test}\")"
   ]
  },
  {
   "cell_type": "markdown",
   "id": "151fd24b-13d1-4689-ace9-7e03da9f164a",
   "metadata": {},
   "source": [
    "### More slicing"
   ]
  },
  {
   "cell_type": "code",
   "execution_count": 11,
   "id": "19fefd00-db3b-491d-a6ec-318bec89f004",
   "metadata": {},
   "outputs": [
    {
     "name": "stdout",
     "output_type": "stream",
     "text": [
      "[[ 0  1  2  3  4]\n",
      " [10 11 12 13 14]\n",
      " [20 21 21 22 24]\n",
      " [30 31 32 33 34]]\n"
     ]
    }
   ],
   "source": [
    "data = np.array([\n",
    "[ 0, 1, 2, 3, 4],\n",
    "[10,11,12,13,14],\n",
    "[20,21,21,22,24],\n",
    "[30,31,32,33,34]])\n",
    "print(data)"
   ]
  },
  {
   "cell_type": "code",
   "execution_count": 12,
   "id": "87274dcf-c0f5-43b1-914b-db6e68c722e1",
   "metadata": {},
   "outputs": [
    {
     "data": {
      "text/plain": [
       "array([[11, 12],\n",
       "       [21, 21]])"
      ]
     },
     "execution_count": 12,
     "metadata": {},
     "output_type": "execute_result"
    }
   ],
   "source": [
    "# items 11,12,21,22\n",
    "data[1:3,1:3]"
   ]
  },
  {
   "cell_type": "code",
   "execution_count": 13,
   "id": "e1839a18-7eb8-4bc1-be9b-c7fe6d488c22",
   "metadata": {},
   "outputs": [
    {
     "data": {
      "text/plain": [
       "array([[ 0,  1,  2,  3,  4],\n",
       "       [20, 21, 21, 22, 24]])"
      ]
     },
     "execution_count": 13,
     "metadata": {},
     "output_type": "execute_result"
    }
   ],
   "source": [
    "#rows 0,2 , all columns\n",
    "data[[0,2],:]"
   ]
  },
  {
   "cell_type": "code",
   "execution_count": 14,
   "id": "3882fe97-b437-4102-819e-ac150d90d38b",
   "metadata": {},
   "outputs": [
    {
     "data": {
      "text/plain": [
       "array([[ 2,  3],\n",
       "       [12, 13],\n",
       "       [21, 22],\n",
       "       [32, 33]])"
      ]
     },
     "execution_count": 14,
     "metadata": {},
     "output_type": "execute_result"
    }
   ],
   "source": [
    "#all rows, columns 2-3\n",
    "data[:,2:4]"
   ]
  },
  {
   "cell_type": "code",
   "execution_count": 15,
   "id": "01057d6a-1efb-4676-aae6-4a702d2f5d70",
   "metadata": {},
   "outputs": [
    {
     "data": {
      "text/plain": [
       "array([[ 2,  4],\n",
       "       [12, 14],\n",
       "       [21, 24],\n",
       "       [32, 34]])"
      ]
     },
     "execution_count": 15,
     "metadata": {},
     "output_type": "execute_result"
    }
   ],
   "source": [
    "#all rows, columns 2,4 \n",
    "data[:,[2,4]]"
   ]
  },
  {
   "cell_type": "code",
   "execution_count": null,
   "id": "7ecd594a-c972-41fa-a22a-559174f874a8",
   "metadata": {},
   "outputs": [],
   "source": []
  },
  {
   "cell_type": "markdown",
   "id": "6a3a773a-e9ac-46f2-b019-eaf989b1461c",
   "metadata": {},
   "source": [
    "### Array reshaping"
   ]
  },
  {
   "cell_type": "code",
   "execution_count": 16,
   "id": "2520f93c-8678-42bc-b6f1-5aecd8cff9b7",
   "metadata": {},
   "outputs": [
    {
     "name": "stdout",
     "output_type": "stream",
     "text": [
      "data=\n",
      "[[11 22]\n",
      " [33 44]\n",
      " [55 66]]\n",
      "data dimensions: (3, 2)\n",
      "Rows: 3\n",
      "Cols: 2\n"
     ]
    }
   ],
   "source": [
    "data = np.array([[11, 22],\n",
    "[33, 44],\n",
    "[55, 66]])\n",
    "print(f\"data=\\n{data}\")\n",
    "print(f\"data dimensions: {data.shape}\")\n",
    "print(f\"Rows: {data.shape[0]}\")\n",
    "print(f\"Cols: {data.shape[1]}\")"
   ]
  },
  {
   "cell_type": "code",
   "execution_count": 17,
   "id": "44e3ef7f-234d-411b-8e50-5f28b8312683",
   "metadata": {},
   "outputs": [
    {
     "name": "stdout",
     "output_type": "stream",
     "text": [
      "[11 22 33 44 55]\n",
      "shape (5,)\n",
      "[[11]\n",
      " [22]\n",
      " [33]\n",
      " [44]\n",
      " [55]]\n",
      "shape (5, 1)\n"
     ]
    }
   ],
   "source": [
    "# reshape 1D array to 2D\n",
    "data = np.array([11, 22, 33, 44, 55])\n",
    "print(data)\n",
    "print(\"shape\",data.shape)\n",
    "\n",
    "data = data.reshape((data.shape[0], 1))\n",
    "print(data)\n",
    "print(\"shape\",data.shape)"
   ]
  },
  {
   "cell_type": "code",
   "execution_count": 18,
   "id": "9ca85575-8305-40ee-b455-1488baa08f1c",
   "metadata": {},
   "outputs": [
    {
     "name": "stdout",
     "output_type": "stream",
     "text": [
      "[[11 22]\n",
      " [33 44]\n",
      " [55 66]]\n",
      "dim-> (3, 2)\n",
      "[[[11]\n",
      "  [22]]\n",
      "\n",
      " [[33]\n",
      "  [44]]\n",
      "\n",
      " [[55]\n",
      "  [66]]]\n",
      "dim-> (3, 2, 1)\n"
     ]
    }
   ],
   "source": [
    "# reshape 2D array to 3D\n",
    "data = np.array([[11, 22],\n",
    "[33, 44],\n",
    "[55, 66]])\n",
    "print(data)\n",
    "print(\"dim->\",data.shape)\n",
    "# reshape\n",
    "data = data.reshape((data.shape[0], data.shape[1], 1))\n",
    "print(data)\n",
    "print(\"dim->\",data.shape)"
   ]
  },
  {
   "cell_type": "code",
   "execution_count": null,
   "id": "4b908150-444e-4370-bb6b-149777da09ed",
   "metadata": {},
   "outputs": [],
   "source": []
  },
  {
   "cell_type": "markdown",
   "id": "51abf20d-1e01-403b-a241-09eaad38f27b",
   "metadata": {},
   "source": [
    "### Selecting data with condition"
   ]
  },
  {
   "cell_type": "code",
   "execution_count": 19,
   "id": "55b5c82d-8f06-4573-8e1b-6148422e7d04",
   "metadata": {},
   "outputs": [
    {
     "name": "stdout",
     "output_type": "stream",
     "text": [
      "[False False False  True False  True]\n",
      "[[6 8]\n",
      " [6 1]]\n",
      "[[6 8]\n",
      " [6 1]]\n",
      "[[6 8]\n",
      " [6 1]]\n"
     ]
    }
   ],
   "source": [
    "import numpy as np\n",
    "\n",
    "a = np.array(\n",
    "    [[0,4],\n",
    "    [0,5],\n",
    "    [3,5],\n",
    "    [6,8],\n",
    "    [9,1],\n",
    "    [6,1]]\n",
    ")\n",
    "\n",
    "mask = a[:, 0] == 6\n",
    "print(mask)\n",
    "print((a[mask, :]))\n",
    "\n",
    "print(a[a[:,0]==6])\n",
    "print(a[a[:,0]==6, :])"
   ]
  },
  {
   "cell_type": "code",
   "execution_count": 20,
   "id": "65a7ceed-68f3-461a-958d-0e9ae14429fb",
   "metadata": {},
   "outputs": [
    {
     "data": {
      "text/plain": [
       "array(['o', 'o', 'a'], dtype='<U1')"
      ]
     },
     "execution_count": 20,
     "metadata": {},
     "output_type": "execute_result"
    }
   ],
   "source": [
    "x = np.array([5, 2, 3, 1, 4, 5])\n",
    "y = np.array(['f','o','o','b','a','r'])\n",
    "y[(1 < x) & (x < 5)]"
   ]
  },
  {
   "cell_type": "code",
   "execution_count": 21,
   "id": "5242a26f-8dad-4d06-82b3-d513c1ea0f89",
   "metadata": {},
   "outputs": [
    {
     "data": {
      "text/plain": [
       "array([ 0,  1,  2,  0,  0,  0, 36, 49, 64, 81])"
      ]
     },
     "execution_count": 21,
     "metadata": {},
     "output_type": "execute_result"
    }
   ],
   "source": [
    "x = np.arange(10)\n",
    "condlist = [x<3, x>5]\n",
    "choicelist = [x, x**2]\n",
    "np.select(condlist, choicelist)"
   ]
  },
  {
   "cell_type": "code",
   "execution_count": 22,
   "id": "a9a13882-c25c-40cb-a12b-ba99a8ad2d89",
   "metadata": {},
   "outputs": [
    {
     "data": {
      "text/plain": [
       "array([ 0,  1,  2,  3,  4, 50, 60, 70, 80, 90])"
      ]
     },
     "execution_count": 22,
     "metadata": {},
     "output_type": "execute_result"
    }
   ],
   "source": [
    "a = np.arange(10)\n",
    "np.where(a < 5, a, 10*a)"
   ]
  },
  {
   "cell_type": "code",
   "execution_count": 23,
   "id": "39bd5147-6603-4928-a622-59666c3709be",
   "metadata": {},
   "outputs": [
    {
     "data": {
      "text/plain": [
       "array([[1, 8],\n",
       "       [3, 4]])"
      ]
     },
     "execution_count": 23,
     "metadata": {},
     "output_type": "execute_result"
    }
   ],
   "source": [
    "np.where([[True, False], [True, True]],\n",
    "         [[1, 2], [3, 4]],\n",
    "         [[9, 8], [7, 6]])"
   ]
  },
  {
   "cell_type": "code",
   "execution_count": 24,
   "id": "cec4b662-f0c9-4bc5-8a04-be03cb157279",
   "metadata": {},
   "outputs": [
    {
     "name": "stdout",
     "output_type": "stream",
     "text": [
      "[[ 1.  2.  3.  4.  5.]\n",
      " [ 6.  7.  8.  9. 10.]]\n",
      "[[ 1.  2.  3.  4.  5.]\n",
      " [ 6.  7.  8.  9. 10.]]\n"
     ]
    }
   ],
   "source": [
    "matrix = np.array([[  1.,   2.,   3.,   4.,   5.],\n",
    "                   [  6.,   7.,   8.,   9.,  10.],\n",
    "                   [ 11.,  12.,  13.,  14.,  15.],\n",
    "                   [ 16.,  17.,  18.,  19.,  20.]])\n",
    "\n",
    "\n",
    "rez = matrix[np.where((1 <= matrix[:,0]) & (matrix[:,0] <= 6)\n",
    "       & (2 <= matrix[:,1]) & (matrix[:,1] <= 7))]\n",
    "\n",
    "print(rez)\n",
    "\n",
    "mask = ((1 <= matrix[:,0]) & (matrix[:,0] <= 6)\n",
    "      & (2 <= matrix[:,1]) & (matrix[:,1] <= 7))\n",
    "\n",
    "rez = matrix[mask,:]\n",
    "\n",
    "print(rez)"
   ]
  },
  {
   "cell_type": "code",
   "execution_count": 25,
   "id": "8830dca9-b9f1-42ef-b9cf-1493493ffb63",
   "metadata": {},
   "outputs": [],
   "source": [
    "data = np.array([\n",
    "    [1,10,1],\n",
    "    [3,10,0],\n",
    "    [1.8,2.0,0],\n",
    "    [-1,-1,1],\n",
    "    [-2,10,1],\n",
    "]) "
   ]
  },
  {
   "cell_type": "code",
   "execution_count": 26,
   "id": "05287ee4-5668-48ad-ba2d-ff54846f3882",
   "metadata": {},
   "outputs": [
    {
     "data": {
      "text/plain": [
       "array([ 1. ,  3. ,  1.8, -1. , -2. ])"
      ]
     },
     "execution_count": 26,
     "metadata": {},
     "output_type": "execute_result"
    }
   ],
   "source": [
    "data[:,0]"
   ]
  },
  {
   "cell_type": "code",
   "execution_count": 27,
   "id": "e150de83-f48a-44be-acc5-550abb750337",
   "metadata": {},
   "outputs": [
    {
     "data": {
      "text/plain": [
       "array([[ 1. ],\n",
       "       [ 3. ],\n",
       "       [ 1.8],\n",
       "       [-1. ],\n",
       "       [-2. ]])"
      ]
     },
     "execution_count": 27,
     "metadata": {},
     "output_type": "execute_result"
    }
   ],
   "source": [
    "data[:,[0]]"
   ]
  },
  {
   "cell_type": "code",
   "execution_count": null,
   "id": "9b35622c-6f89-4c35-9b01-6343a6131b9a",
   "metadata": {},
   "outputs": [],
   "source": []
  }
 ],
 "metadata": {
  "kernelspec": {
   "display_name": "Python 3",
   "language": "python",
   "name": "python3"
  },
  "language_info": {
   "codemirror_mode": {
    "name": "ipython",
    "version": 3
   },
   "file_extension": ".py",
   "mimetype": "text/x-python",
   "name": "python",
   "nbconvert_exporter": "python",
   "pygments_lexer": "ipython3",
   "version": "3.9.5"
  }
 },
 "nbformat": 4,
 "nbformat_minor": 5
}
