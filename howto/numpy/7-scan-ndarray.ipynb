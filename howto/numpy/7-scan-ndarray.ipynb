{
 "cells": [
  {
   "cell_type": "code",
   "execution_count": 7,
   "id": "2da73fc8-763a-40c3-aff3-ecae6f5bf346",
   "metadata": {},
   "outputs": [
    {
     "name": "stdout",
     "output_type": "stream",
     "text": [
      "   0   1   2   3   4\n",
      "0  1   3   4   5   6\n",
      "1  1   4   5  10  14\n",
      "2  2   7   8  12  15\n",
      "3  2   8   9  12  13\n",
      "4  3   7   9  11  15\n",
      "5  3  10  11  13  14\n",
      "6  6   7  11  13  15\n",
      "7  6   9  10  11  14\n",
      "[[ 1  3  4  5  6]\n",
      " [ 1  4  5 10 14]\n",
      " [ 2  7  8 12 15]\n",
      " [ 2  8  9 12 13]\n",
      " [ 3  7  9 11 15]\n",
      " [ 3 10 11 13 14]\n",
      " [ 6  7 11 13 15]\n",
      " [ 6  9 10 11 14]]\n"
     ]
    }
   ],
   "source": [
    "import pandas as pd\n",
    "import numpy as np\n",
    "\n",
    "df=pd.read_csv('data.txt', sep=',',header=None)\n",
    "print(df.head(8))\n",
    "sol = df.to_numpy()\n",
    "print(sol)"
   ]
  },
  {
   "cell_type": "code",
   "execution_count": 8,
   "id": "55f843e7-28a0-4fc8-9f89-b3fbf6579bf0",
   "metadata": {},
   "outputs": [
    {
     "name": "stdout",
     "output_type": "stream",
     "text": [
      "0--1\n",
      "8--3\n",
      "16--4\n",
      "24--5\n",
      "32--6\n",
      "1--1\n",
      "9--4\n",
      "17--5\n",
      "25--10\n",
      "33--14\n",
      "2--2\n",
      "10--7\n",
      "18--8\n",
      "26--12\n",
      "34--15\n",
      "3--2\n",
      "11--8\n",
      "19--9\n",
      "27--12\n",
      "35--13\n",
      "4--3\n",
      "12--7\n",
      "20--9\n",
      "28--11\n",
      "36--15\n",
      "5--3\n",
      "13--10\n",
      "21--11\n",
      "29--13\n",
      "37--14\n",
      "6--6\n",
      "14--7\n",
      "22--11\n",
      "30--13\n",
      "38--15\n",
      "7--6\n",
      "15--9\n",
      "23--10\n",
      "31--11\n",
      "39--14\n"
     ]
    }
   ],
   "source": [
    "it = np.nditer(sol, flags=['f_index'],order='C')\n",
    "for x in it:\n",
    "    print(f\"{it.index}--{x}\")"
   ]
  },
  {
   "cell_type": "code",
   "execution_count": null,
   "id": "967690e2-5da2-42bf-a20e-4bfc66836f31",
   "metadata": {},
   "outputs": [],
   "source": []
  }
 ],
 "metadata": {
  "kernelspec": {
   "display_name": "Python 3",
   "language": "python",
   "name": "python3"
  },
  "language_info": {
   "codemirror_mode": {
    "name": "ipython",
    "version": 3
   },
   "file_extension": ".py",
   "mimetype": "text/x-python",
   "name": "python",
   "nbconvert_exporter": "python",
   "pygments_lexer": "ipython3",
   "version": "3.8.10"
  }
 },
 "nbformat": 4,
 "nbformat_minor": 5
}
