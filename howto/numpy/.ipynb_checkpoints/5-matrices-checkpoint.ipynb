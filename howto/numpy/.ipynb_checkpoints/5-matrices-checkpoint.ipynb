{
 "cells": [
  {
   "cell_type": "code",
   "execution_count": 9,
   "id": "1fae0c9b-b492-4e65-b971-923e58e3cb0f",
   "metadata": {},
   "outputs": [],
   "source": [
    "import numpy as np"
   ]
  },
  {
   "cell_type": "code",
   "execution_count": 10,
   "id": "82996698-62d1-462b-9b87-dac3feb289e9",
   "metadata": {},
   "outputs": [
    {
     "name": "stdout",
     "output_type": "stream",
     "text": [
      "[[1 2 3]\n",
      " [4 5 6]]     +\n",
      "\n",
      "[[2 2 2]\n",
      " [2 2 2]]     =\n",
      "\n",
      "[[3 4 5]\n",
      " [6 7 8]]\n"
     ]
    }
   ],
   "source": [
    "A = np.array([\n",
    "[1, 2, 3],\n",
    "[4, 5, 6]])\n",
    "\n",
    "B = np.array([\n",
    "[2, 2, 2],\n",
    "[2, 2, 2]])\n",
    "\n",
    "# matrix addition\n",
    "C = A + B\n",
    "print(A,\"    +\\n\")\n",
    "print(B,\"    =\\n\")\n",
    "print(C)"
   ]
  },
  {
   "cell_type": "code",
   "execution_count": 11,
   "id": "04410774-0b82-42c6-907c-2faddca0a068",
   "metadata": {},
   "outputs": [
    {
     "name": "stdout",
     "output_type": "stream",
     "text": [
      "[[1 2 3]\n",
      " [4 5 6]]     -\n",
      "\n",
      "[[2 2 2]\n",
      " [2 2 2]]     =\n",
      "\n",
      "[[-1  0  1]\n",
      " [ 2  3  4]]\n"
     ]
    }
   ],
   "source": [
    "#matrix substraction\n",
    "C = A - B\n",
    "print(A,\"    -\\n\")\n",
    "print(B,\"    =\\n\")\n",
    "print(C)"
   ]
  },
  {
   "cell_type": "code",
   "execution_count": 12,
   "id": "ff24dcfd-29cb-423f-8f8d-8221002aa0e2",
   "metadata": {},
   "outputs": [
    {
     "name": "stdout",
     "output_type": "stream",
     "text": [
      "[[1 2 3]\n",
      " [4 5 6]]     *\n",
      "\n",
      "[[2 2 2]\n",
      " [2 2 2]]     =\n",
      "\n",
      "[[ 2  4  6]\n",
      " [ 8 10 12]]\n"
     ]
    }
   ],
   "source": [
    "#matrix Hadamard product\n",
    "C = A * B\n",
    "print(A,\"    *\\n\")\n",
    "print(B,\"    =\\n\")\n",
    "print(C)"
   ]
  },
  {
   "cell_type": "code",
   "execution_count": 13,
   "id": "ea84b43d-4ca9-455c-8b05-0c6f6468d1f6",
   "metadata": {},
   "outputs": [
    {
     "name": "stdout",
     "output_type": "stream",
     "text": [
      "[[1 2 3]\n",
      " [4 5 6]]     /\n",
      "\n",
      "[[2 2 2]\n",
      " [2 2 2]]     =\n",
      "\n",
      "[[0.5 1.  1.5]\n",
      " [2.  2.5 3. ]]\n"
     ]
    }
   ],
   "source": [
    "#matrix division\n",
    "C = A / B\n",
    "print(A,\"    /\\n\")\n",
    "print(B,\"    =\\n\")\n",
    "print(C)"
   ]
  },
  {
   "cell_type": "code",
   "execution_count": null,
   "id": "2c04cf63-c0d6-4452-a0e1-edcb184923a9",
   "metadata": {},
   "outputs": [],
   "source": [
    "#matrix multiplication (dot product) (rows form 1st matrix x cols from 2nd matrix)\n",
    "#rule: The number of columns (n) in the first matrix (A) must equal the number of rows (m) in\n",
    "#the second matrix (B)\n",
    "#C = A dot B\n",
    "#C(m,k)=A(m,n) dot B(n,k)"
   ]
  },
  {
   "cell_type": "markdown",
   "id": "aadfdbf5-121a-4559-816e-299bb6f9e7d0",
   "metadata": {},
   "source": [
    "$\n",
    "A = \n",
    "\\begin{pmatrix}\n",
    "a_{1,1} &a_{1,2} \\\\\n",
    "a_{2,1} &a_{2,2} \\\\\n",
    "a_{3,1} &a_{3,2}\n",
    "\\end{pmatrix} \\quad\n",
    "B = \\begin{pmatrix}\n",
    "b_{1,1} &b_{1,2} \\\\\n",
    "b_{2,1} &b_{2,2} \\\\\n",
    "\\end{pmatrix} \\\\\n",
    "C = A \\cdot B \\\\\n",
    "$"
   ]
  },
  {
   "cell_type": "markdown",
   "id": "0770fff7-f93b-410c-bd4e-2c88327c6c14",
   "metadata": {},
   "source": [
    "$\n",
    "C = \\begin{pmatrix}\n",
    "a_{1,1} \\times b_{1,1} + a_{1,2} \\times b_{2,1} &a_{1,1} \\times b_{1,2} + a_{1,2} \\times b_{2,2} \\\\\n",
    "a_{2,1} \\times b_{1,1} + a_{2,2} \\times b_{2,1} &a_{2,1} \\times b_{1,2} + a_{2,2} \\times b_{2,2} \\\\\n",
    "a_{3,1} \\times b_{1,1} + a_{3,2} \\times b_{2,1} &a_{3,1} \\times b_{1,2} + a_{3,2} \\times b_{2,2} \\\\\n",
    "\\end{pmatrix}\n",
    "$"
   ]
  },
  {
   "cell_type": "code",
   "execution_count": 17,
   "id": "d0a84cc0-8f7b-4b9b-95ce-7682a390c276",
   "metadata": {},
   "outputs": [
    {
     "name": "stdout",
     "output_type": "stream",
     "text": [
      "[[1 2 3]\n",
      " [4 5 6]]      x\n",
      "\n",
      "[[ 7  8]\n",
      " [ 9 10]\n",
      " [11 12]]      =\n",
      "\n",
      "[[ 58  64]\n",
      " [139 154]]\n"
     ]
    }
   ],
   "source": [
    "A = np.array([[1,2,3],[4,5,6]])\n",
    "B = np.array([[7,8],[9,10],[11,12]])\n",
    "print(A,\"     x\\n\")\n",
    "print(B,\"     =\\n\")\n",
    "print(A.dot(B))"
   ]
  },
  {
   "cell_type": "code",
   "execution_count": 18,
   "id": "3c7bb508-ec91-495f-affd-8298fef1a6ec",
   "metadata": {},
   "outputs": [
    {
     "name": "stdout",
     "output_type": "stream",
     "text": [
      "[[ 58  64]\n",
      " [139 154]]\n"
     ]
    }
   ],
   "source": [
    "# multiply matrices with @ operator\n",
    "D = A @ B\n",
    "print(D)"
   ]
  },
  {
   "cell_type": "code",
   "execution_count": null,
   "id": "29135d0a-bac5-4162-a2c5-1ac19219f97f",
   "metadata": {},
   "outputs": [],
   "source": []
  }
 ],
 "metadata": {
  "kernelspec": {
   "display_name": "Python 3",
   "language": "python",
   "name": "python3"
  },
  "language_info": {
   "codemirror_mode": {
    "name": "ipython",
    "version": 3
   },
   "file_extension": ".py",
   "mimetype": "text/x-python",
   "name": "python",
   "nbconvert_exporter": "python",
   "pygments_lexer": "ipython3",
   "version": "3.8.8"
  }
 },
 "nbformat": 4,
 "nbformat_minor": 5
}
