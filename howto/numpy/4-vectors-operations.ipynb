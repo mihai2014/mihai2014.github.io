{
 "cells": [
  {
   "cell_type": "code",
   "execution_count": 1,
   "id": "a4520c0b-8144-45b2-bfab-5a69c9ada42d",
   "metadata": {},
   "outputs": [],
   "source": [
    "import numpy as np"
   ]
  },
  {
   "cell_type": "raw",
   "id": "9674e998-55bf-4a79-8666-60dbe0bb7946",
   "metadata": {},
   "source": [
    "A vector is a tuple of one or more values called scalars."
   ]
  },
  {
   "cell_type": "code",
   "execution_count": 2,
   "id": "78bd4913-3c8a-4632-8d0e-f1d295f3962f",
   "metadata": {},
   "outputs": [
    {
     "data": {
      "text/plain": [
       "[1, 2, 3, 4, 5, 6]"
      ]
     },
     "execution_count": 2,
     "metadata": {},
     "output_type": "execute_result"
    }
   ],
   "source": [
    "#python lists\n",
    "[1,2,3]+[4,5,6]"
   ]
  },
  {
   "cell_type": "code",
   "execution_count": 3,
   "id": "07dcae4c-b55b-4db7-87f1-47eaa4da6405",
   "metadata": {},
   "outputs": [
    {
     "data": {
      "text/plain": [
       "array([5, 7, 9])"
      ]
     },
     "execution_count": 3,
     "metadata": {},
     "output_type": "execute_result"
    }
   ],
   "source": [
    "#numpy arrays/vectors\n",
    "np.array([1,2,3])+np.array([4,5,6])"
   ]
  },
  {
   "cell_type": "code",
   "execution_count": null,
   "id": "dd651673-4bd6-4325-abfb-cd98a5b8e4e8",
   "metadata": {},
   "outputs": [],
   "source": []
  },
  {
   "cell_type": "markdown",
   "id": "2c9d9fff-a3f3-4aed-8602-76b85994dcd5",
   "metadata": {},
   "source": [
    "## Broadcasting: operations on arrays of different dimensions"
   ]
  },
  {
   "cell_type": "code",
   "execution_count": 12,
   "id": "9b21f5b5-1c8a-46e8-b2c8-26fac4a8bc4c",
   "metadata": {},
   "outputs": [
    {
     "name": "stdout",
     "output_type": "stream",
     "text": [
      "[1 2 3] + 2 = [3 4 5]\n"
     ]
    }
   ],
   "source": [
    "# broadcast scalar to one dimensional array\n",
    "a = np.array([1,2,3])\n",
    "b = 2\n",
    "c = a + b\n",
    "print(a,\"+\",b,\"=\",c)"
   ]
  },
  {
   "cell_type": "code",
   "execution_count": 23,
   "id": "49c93345-6089-4ee3-8ee0-2f71bae62211",
   "metadata": {},
   "outputs": [
    {
     "name": "stdout",
     "output_type": "stream",
     "text": [
      "[[1 2 3]\n",
      " [1 2 3]] + 2 = \n",
      "\n",
      "[[3 4 5]\n",
      " [3 4 5]]\n"
     ]
    }
   ],
   "source": [
    "# broadcast scalar to two-dimensional array\n",
    "A = np.array([\n",
    "[1, 2, 3],\n",
    "[1, 2, 3]])\n",
    "b = 2\n",
    "C = A + b\n",
    "print(f\"{A} + {b} = \\n\\n{C}\")"
   ]
  },
  {
   "cell_type": "code",
   "execution_count": 28,
   "id": "b4fd22c1-856a-4c23-93ff-01b21f67ae15",
   "metadata": {},
   "outputs": [
    {
     "name": "stdout",
     "output_type": "stream",
     "text": [
      "[[1 2 3]\n",
      " [1 2 3]] + [1 2 3] =\n",
      "\n",
      " [[2 4 6]\n",
      " [2 4 6]]\n"
     ]
    }
   ],
   "source": [
    "# broadcast one-dimensional array to two-dimensional array\n",
    "A = np.array([\n",
    "[1, 2, 3],\n",
    "[1, 2, 3]])\n",
    "b = np.array([1, 2, 3])\n",
    "C = A + b\n",
    "print(A,\"+\",b,\"=\\n\\n\",C)"
   ]
  },
  {
   "cell_type": "code",
   "execution_count": null,
   "id": "e427f881-184b-4e50-add5-096541c8e44e",
   "metadata": {},
   "outputs": [],
   "source": []
  },
  {
   "cell_type": "markdown",
   "id": "70045cf7-03a9-43c3-a6b1-d3d9c7157636",
   "metadata": {},
   "source": [
    "## Arithmetic"
   ]
  },
  {
   "cell_type": "code",
   "execution_count": 7,
   "id": "8d0978ac-9bc5-4e80-bd8b-4017e1b6356c",
   "metadata": {},
   "outputs": [
    {
     "name": "stdout",
     "output_type": "stream",
     "text": [
      "[1 2 3] + [1 2 3] = [2 4 6]\n"
     ]
    }
   ],
   "source": [
    "#vector addition\n",
    "a = np.array([1, 2, 3])\n",
    "b = np.array([1, 2, 3])\n",
    "c = a + b\n",
    "print(a,\"+\",b,\"=\",c)"
   ]
  },
  {
   "cell_type": "code",
   "execution_count": 8,
   "id": "c13670ed-ac58-4180-b5aa-58a20c6a5af4",
   "metadata": {},
   "outputs": [
    {
     "name": "stdout",
     "output_type": "stream",
     "text": [
      "[1 2 3] + [0.5 0.5 0.5] = [0.5 1.5 2.5]\n"
     ]
    }
   ],
   "source": [
    "#vector substraction\n",
    "a = np.array([1, 2, 3])\n",
    "b = np.array([.5, .5, .5])\n",
    "c = a - b\n",
    "print(a,\"+\",b,\"=\",c)"
   ]
  },
  {
   "cell_type": "code",
   "execution_count": 9,
   "id": "014106c8-5276-497d-a086-b130f8c85882",
   "metadata": {},
   "outputs": [
    {
     "name": "stdout",
     "output_type": "stream",
     "text": [
      "[1 2 3] * [1 2 3] = [1 4 9]\n"
     ]
    }
   ],
   "source": [
    "#vector multiplication\n",
    "a = np.array([1, 2, 3])\n",
    "b = np.array([1, 2, 3])\n",
    "c = a * b\n",
    "print(a,\"*\",b,\"=\",c)"
   ]
  },
  {
   "cell_type": "code",
   "execution_count": 12,
   "id": "eca02ff0-3143-45b5-adb0-25d4e363b15b",
   "metadata": {},
   "outputs": [
    {
     "name": "stdout",
     "output_type": "stream",
     "text": [
      "[1 2 3] / [1 2 3] = [1. 1. 1.]\n"
     ]
    }
   ],
   "source": [
    "#vector division\n",
    "a = np.array([1, 2, 3])\n",
    "b = np.array([1, 2, 3])\n",
    "c = a / b\n",
    "print(a,\"/\",b,\"=\",c)"
   ]
  },
  {
   "cell_type": "code",
   "execution_count": 15,
   "id": "26ff6576-c5c0-4981-af03-abee831991c2",
   "metadata": {},
   "outputs": [
    {
     "name": "stdout",
     "output_type": "stream",
     "text": [
      "[1 2 3]  dot  [1 2 3] = 14\n"
     ]
    }
   ],
   "source": [
    "#vector dot product:\n",
    "# a = [a1,a2,a3]  b = [b1,b2,b3]\n",
    "# a . b = (a1 x b1 + a2 x b2 + a3 x b3)\n",
    "a = np.array([1, 2, 3])\n",
    "b = np.array([1, 2, 3])\n",
    "c = a.dot(b)\n",
    "print(a,\" dot \",b,\"=\",c)"
   ]
  },
  {
   "cell_type": "code",
   "execution_count": 17,
   "id": "b155ea8b-2e93-44fd-9293-da57ae5e953b",
   "metadata": {},
   "outputs": [
    {
     "name": "stdout",
     "output_type": "stream",
     "text": [
      "[1 2 3]  *  0.5  =  [0.5 1.  1.5]\n"
     ]
    }
   ],
   "source": [
    "#vector-scalar multiplication\n",
    "v = np.array([1, 2, 3])\n",
    "s = 0.5\n",
    "c = s * v\n",
    "print(v,\" * \",s,\" = \" ,c)"
   ]
  },
  {
   "cell_type": "code",
   "execution_count": null,
   "id": "b5fd7fd8-46e9-40d5-a9c3-fdabfa303fe5",
   "metadata": {},
   "outputs": [],
   "source": []
  },
  {
   "cell_type": "markdown",
   "id": "e34e6abb-f339-4a07-84ef-b25188bdf27f",
   "metadata": {},
   "source": [
    "## Vector norms"
   ]
  },
  {
   "cell_type": "code",
   "execution_count": 20,
   "id": "deba66f6-d582-4697-bfde-0833da3ed772",
   "metadata": {},
   "outputs": [
    {
     "name": "stdout",
     "output_type": "stream",
     "text": [
      "6.0\n"
     ]
    }
   ],
   "source": [
    "#L1 norm: the sum of the absolute vector values\n",
    "from numpy.linalg import norm\n",
    "a = np.array([1, 2, 3])\n",
    "#'1' specify the norm order\n",
    "l1 = norm(a, 1)\n",
    "print(l1)"
   ]
  },
  {
   "cell_type": "code",
   "execution_count": 21,
   "id": "fac7529f-a884-476d-aa8a-f2b46fdaffc5",
   "metadata": {},
   "outputs": [
    {
     "name": "stdout",
     "output_type": "stream",
     "text": [
      "3.7416573867739413\n"
     ]
    }
   ],
   "source": [
    "#L2 norm: the square root of the sum of the squared vector values\n",
    "a = np.array([1, 2, 3])\n",
    "l2 = norm(a)\n",
    "print(l2)"
   ]
  },
  {
   "cell_type": "code",
   "execution_count": 22,
   "id": "712195d3-ff59-42d8-bca5-f16f769ca128",
   "metadata": {},
   "outputs": [
    {
     "name": "stdout",
     "output_type": "stream",
     "text": [
      "3.0\n"
     ]
    }
   ],
   "source": [
    "# vector max norm\n",
    "from math import inf\n",
    "from numpy.linalg import norm\n",
    "a = np.array([1, 2, 3])\n",
    "maxnorm = norm(a, inf)\n",
    "print(maxnorm)"
   ]
  },
  {
   "cell_type": "code",
   "execution_count": 41,
   "id": "aa2c4cb2-dad5-45ac-bf08-abce7374340f",
   "metadata": {},
   "outputs": [
    {
     "data": {
      "text/plain": [
       "11.0"
      ]
     },
     "execution_count": 41,
     "metadata": {},
     "output_type": "execute_result"
    }
   ],
   "source": [
    "#max = 10+1\n",
    "norm([[2,3],[2,4],[10,1]],inf)"
   ]
  },
  {
   "cell_type": "code",
   "execution_count": null,
   "id": "b2cc54a2-ca61-419b-bddc-7c9bf0404cb9",
   "metadata": {},
   "outputs": [],
   "source": []
  }
 ],
 "metadata": {
  "kernelspec": {
   "display_name": "Python 3",
   "language": "python",
   "name": "python3"
  },
  "language_info": {
   "codemirror_mode": {
    "name": "ipython",
    "version": 3
   },
   "file_extension": ".py",
   "mimetype": "text/x-python",
   "name": "python",
   "nbconvert_exporter": "python",
   "pygments_lexer": "ipython3",
   "version": "3.8.8"
  }
 },
 "nbformat": 4,
 "nbformat_minor": 5
}
