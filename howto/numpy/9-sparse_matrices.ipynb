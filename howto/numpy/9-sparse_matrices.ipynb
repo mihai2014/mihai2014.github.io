{
 "cells": [
  {
   "cell_type": "markdown",
   "id": "c4a8cf4b-eccd-4b5c-944f-613b66391bd5",
   "metadata": {},
   "source": [
    "### Operations with sparse matrices"
   ]
  },
  {
   "cell_type": "code",
   "execution_count": 37,
   "id": "a931dcde-0a86-42f2-974c-de8416aa9a0d",
   "metadata": {},
   "outputs": [
    {
     "name": "stdout",
     "output_type": "stream",
     "text": [
      "[[ 0  1  2  3]\n",
      " [ 4  0  6  7]\n",
      " [ 8  9  0 11]\n",
      " [12 13 14  0]]\n",
      "[[  0   1   4   9]\n",
      " [ 16   0  36  49]\n",
      " [ 64  81   0 121]\n",
      " [144 169 196   0]]\n",
      "[[ 14  33  42  41]\n",
      " [ 33 101 109 132]\n",
      " [ 42 109 266 213]\n",
      " [ 41 132 213 509]]\n",
      "[[ 14  33  42  41]\n",
      " [ 33 101 109 132]\n",
      " [ 42 109 266 213]\n",
      " [ 41 132 213 509]]\n",
      "[[  0   1   4   9]\n",
      " [ 16   0  36  49]\n",
      " [ 64  81   0 121]\n",
      " [144 169 196   0]]\n",
      "[[ 14  33  42  41]\n",
      " [ 33 101 109 132]\n",
      " [ 42 109 266 213]\n",
      " [ 41 132 213 509]]\n"
     ]
    }
   ],
   "source": [
    "import numpy as np\n",
    "from scipy.sparse import csr_matrix\n",
    "\n",
    "dense_a = np.arange(16).reshape(4,4)\n",
    "dense_b = np.arange(16).reshape(4,4)\n",
    "np.fill_diagonal(dense_a, 0)\n",
    "np.fill_diagonal(dense_b, 0)\n",
    "print(dense_a)\n",
    "print(dense_a*dense_b)\n",
    "print(dense_a@dense_b.T)\n",
    "print(np.dot(dense_a, dense_b.T))\n",
    "\n",
    "sparse_a = csr_matrix(dense_a)\n",
    "sparse_b = csr_matrix(dense_b)\n",
    "sparse_rez1 = sparse_a.multiply(sparse_a)\n",
    "sparse_rez2 = sparse_a.dot(sparse_b.T)\n",
    "print(sparse_rez1.todense())\n",
    "print(csr_matrix.toarray(sparse_rez2))"
   ]
  },
  {
   "cell_type": "code",
   "execution_count": null,
   "id": "6cb0ef27-2151-490c-a9ea-cbc06ba97088",
   "metadata": {},
   "outputs": [],
   "source": []
  }
 ],
 "metadata": {
  "kernelspec": {
   "display_name": "Python 3",
   "language": "python",
   "name": "python3"
  },
  "language_info": {
   "codemirror_mode": {
    "name": "ipython",
    "version": 3
   },
   "file_extension": ".py",
   "mimetype": "text/x-python",
   "name": "python",
   "nbconvert_exporter": "python",
   "pygments_lexer": "ipython3",
   "version": "3.8.10"
  }
 },
 "nbformat": 4,
 "nbformat_minor": 5
}
