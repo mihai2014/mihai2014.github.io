{
 "cells": [
  {
   "cell_type": "markdown",
   "id": "8cb4136f-f8c1-405d-94b6-452a877f3166",
   "metadata": {},
   "source": [
    "# Creating, indexing and slicing and reshaping arrays"
   ]
  },
  {
   "cell_type": "markdown",
   "id": "6ae187a6-5830-47a4-8bf5-c647fac6488e",
   "metadata": {},
   "source": [
    "### Create and convert data to numpy arrays"
   ]
  },
  {
   "cell_type": "code",
   "execution_count": 15,
   "id": "d980f8b2-2d1c-42b4-8d79-a3547302a284",
   "metadata": {},
   "outputs": [
    {
     "name": "stdout",
     "output_type": "stream",
     "text": [
      "data1 is <class 'list'>\n",
      "data1 is now <class 'numpy.ndarray'>\n",
      "data2=\n",
      "[ 5 10 15 20]\n",
      "data2 dimensions: (4,)\n",
      "data3=\n",
      "[[11 22]\n",
      " [33 44]\n",
      " [55 66]]\n",
      "data3 dimensions: (3, 2)\n",
      "data4=\n",
      "[[[1 2 3]\n",
      "  [4 5 6]]\n",
      "\n",
      " [[1 2 3]\n",
      "  [4 5 6]]]\n",
      "data4 dimensions: (2, 2, 3)\n"
     ]
    }
   ],
   "source": [
    "import numpy as np\n",
    "\n",
    "#convert to and create numpy nd(imensional)arrays\n",
    "data1 = [10, 20, 30]\n",
    "print(f\"data1 is {type(data1)}\")\n",
    "data1 = np.array(data1)\n",
    "print(f\"data1 is now {type(data1)}\")\n",
    "\n",
    "#one dimensional\n",
    "data2 = np.array([5, 10, 15, 20])\n",
    "print(f\"data2=\\n{data2}\")\n",
    "print(f\"data2 dimensions: {data2.shape}\")\n",
    "\n",
    "#two dimensional\n",
    "data3 = np.array([[11,22],\n",
    "                  [33,44],\n",
    "                  [55,66]])\n",
    "print(f\"data3=\\n{data3}\")\n",
    "print(f\"data3 dimensions: {data3.shape}\")\n",
    "\n",
    "data4 = np.array([[[1,2,3], [4,5,6]], \n",
    "                  [[1,2,3], [4,5,6]]])\n",
    "print(f\"data4=\\n{data4}\")\n",
    "print(f\"data4 dimensions: {data4.shape}\")"
   ]
  },
  {
   "cell_type": "markdown",
   "id": "a082eb45-b8d0-46dc-b31a-1216fc3c7ec9",
   "metadata": {},
   "source": [
    "### Indexing arrays"
   ]
  },
  {
   "cell_type": "raw",
   "id": "52a9c6f9-15a4-4a21-a906-07a05a9487f2",
   "metadata": {},
   "source": [
    "positive indexing\n",
    "  0  1  2  3  4\n",
    "[11,22,33,44,55]\n",
    " -5 -4 -3 -2 -1\n",
    "negative indexing  "
   ]
  },
  {
   "cell_type": "code",
   "execution_count": 20,
   "id": "25456377-e78d-4ce4-9604-b68cfcbbee35",
   "metadata": {},
   "outputs": [],
   "source": [
    "data1 = np.array([11,22,33,44,55])"
   ]
  },
  {
   "cell_type": "code",
   "execution_count": 23,
   "id": "25036775-65c1-4ee4-b911-51227f805f92",
   "metadata": {},
   "outputs": [
    {
     "name": "stdout",
     "output_type": "stream",
     "text": [
      "data1=[11 22 33 44 55]\n",
      "data1[0]=11 data1[1]=22\n",
      "data1[-1]=55 data1[-2]=44 data1[-5]=11\n"
     ]
    }
   ],
   "source": [
    "#indexing one dimensional array\n",
    "print(f\"data1={data1}\")\n",
    "print(f\"data1[0]={data[0]}\",f\"data1[1]={data[1]}\")\n",
    "print(f\"data1[-1]={data[-1]}\",f\"data1[-2]={data[-2]}\",f\"data1[-5]={data[-5]}\")"
   ]
  },
  {
   "cell_type": "code",
   "execution_count": 21,
   "id": "11b4e988-2088-4825-81cf-1124f2291010",
   "metadata": {},
   "outputs": [],
   "source": [
    "data2 = np.array([[11,22],\n",
    "                 [33,44],\n",
    "                 [55,66]])"
   ]
  },
  {
   "cell_type": "code",
   "execution_count": 26,
   "id": "887f6c96-cda9-4a13-a34a-af64c699e01d",
   "metadata": {},
   "outputs": [
    {
     "name": "stdout",
     "output_type": "stream",
     "text": [
      "data2=\n",
      "[[11 22]\n",
      " [33 44]\n",
      " [55 66]]\n",
      "data2[0,0]=11\n",
      "1st row of data2[0,]=[11 22]\n"
     ]
    }
   ],
   "source": [
    "#indexing two dimensional array\n",
    "print(f\"data2=\\n{data2}\")\n",
    "#element (0,0)\n",
    "print(f\"data2[0,0]={data2[0,0]}\")\n",
    "#1st row\n",
    "print(f\"1st row of data2[0,]={data2[0,]}\")"
   ]
  },
  {
   "cell_type": "markdown",
   "id": "4e5c450b-94c4-41a5-8d4c-be5d733adf2b",
   "metadata": {},
   "source": [
    "### Slicing arrays"
   ]
  },
  {
   "cell_type": "raw",
   "id": "de72b4ae-6bd0-4582-a82d-37e705e0d235",
   "metadata": {},
   "source": [
    "positive indexing\n",
    "  0  1  2  3  4\n",
    "positive slicing\n",
    "  0  1  2  3  4  5\n",
    "[11,22,33,44,55]\n",
    "negative indexing \n",
    " -5 -4 -3 -2 -1\n",
    "negative slicing\n",
    " -5 -4 -3 -2 -1 \n",
    "\n",
    "slicing (from left to right): array[index1:index2], array[index1:], array[:index1]"
   ]
  },
  {
   "cell_type": "code",
   "execution_count": 69,
   "id": "943ba7f5-8393-4fa9-9b41-877c1ea35c9a",
   "metadata": {},
   "outputs": [
    {
     "name": "stdout",
     "output_type": "stream",
     "text": [
      "data1=[11 22 33 44 55]\n",
      "\n",
      "data1[:]=[11 22 33 44 55]\n",
      "\n",
      "data1[:1]=[11]\n",
      "data1[0:1]=[11]\n",
      "data1[0:2]=[11 22]\n",
      "data1[2:5]=[33 44 55]\n",
      "data1[2:]=[33 44 55]\n",
      "\n",
      "data1[-1:]=[55]\n",
      "data1[-3:]=[33 44 55]\n",
      "data1[-5:-3]=[11 22]\n"
     ]
    }
   ],
   "source": [
    "print(f\"data1={data1}\")\n",
    "print(\"\")\n",
    "#access all data in an array\n",
    "print(f\"data1[:]={data1[:]}\")\n",
    "print(\"\")\n",
    "#positive slicing of a subset of a one-dimensional array\n",
    "print(f\"data1[:1]={data1[:1]}\")\n",
    "print(f\"data1[0:1]={data1[0:1]}\")\n",
    "print(f\"data1[0:2]={data1[0:2]}\")\n",
    "print(f\"data1[2:5]={data1[2:5]}\")\n",
    "print(f\"data1[2:]={data1[2:]}\")\n",
    "print(\"\")\n",
    "#negative slicing of a one-dimensional array\n",
    "print(f\"data1[-1:]={data1[-1:]}\")\n",
    "print(f\"data1[-3:]={data1[-3:]}\")\n",
    "print(f\"data1[-5:-3]={data1[-5:-3]}\")"
   ]
  },
  {
   "cell_type": "markdown",
   "id": "07f2d194-21cf-4a9d-a4da-95dad3392633",
   "metadata": {},
   "source": [
    "### Example slicing two dimensional array"
   ]
  },
  {
   "cell_type": "code",
   "execution_count": 73,
   "id": "4557f67e-4090-4615-a79e-fa721249e235",
   "metadata": {},
   "outputs": [
    {
     "name": "stdout",
     "output_type": "stream",
     "text": [
      "array=\n",
      "[[11 22 33]\n",
      " [44 55 66]\n",
      " [77 88 99]]\n",
      "X=\n",
      "[[11 22]\n",
      " [44 55]\n",
      " [77 88]]\n",
      "y=\n",
      "[33 66 99]\n",
      "X=\n",
      "[[11 22]\n",
      " [44 55]\n",
      " [77 88]]\n",
      "y=\n",
      "[33 66 99]\n"
     ]
    }
   ],
   "source": [
    "#Split input (X) and variables (y)\n",
    "data = np.array([\n",
    "[11, 22, 33],\n",
    "[44, 55, 66],\n",
    "[77, 88, 99]])\n",
    "print(f\"array=\\n{data}\")\n",
    "# separate data\n",
    "X, y = data[:, :-1], data[:, -1]\n",
    "print(f\"X=\\n{X}\")\n",
    "print(f\"y=\\n{y}\")\n",
    "\n",
    "X, y = (data[:,:2],data[:,2])\n",
    "print(f\"X=\\n{X}\")\n",
    "print(f\"y=\\n{y}\")"
   ]
  },
  {
   "cell_type": "code",
   "execution_count": 75,
   "id": "f1c5ed13-acc2-4376-8c58-4b63b23a2409",
   "metadata": {},
   "outputs": [
    {
     "name": "stdout",
     "output_type": "stream",
     "text": [
      "train data=\n",
      "[[11 22 33]\n",
      " [44 55 66]]\n",
      "test data=\n",
      "[[77 88 99]]\n"
     ]
    }
   ],
   "source": [
    "# split train and test data\n",
    "split = 2\n",
    "train,test = data[:split,:],data[split:,:]\n",
    "print(f\"train data=\\n{train}\")\n",
    "print(f\"test data=\\n{test}\")"
   ]
  },
  {
   "cell_type": "markdown",
   "id": "151fd24b-13d1-4689-ace9-7e03da9f164a",
   "metadata": {},
   "source": [
    "### More slicing"
   ]
  },
  {
   "cell_type": "code",
   "execution_count": 81,
   "id": "19fefd00-db3b-491d-a6ec-318bec89f004",
   "metadata": {},
   "outputs": [
    {
     "name": "stdout",
     "output_type": "stream",
     "text": [
      "[[ 0  1  2  3  4]\n",
      " [10 11 12 13 14]\n",
      " [20 21 21 22 24]\n",
      " [30 31 32 33 34]]\n"
     ]
    }
   ],
   "source": [
    "data = np.array([\n",
    "[ 0, 1, 2, 3, 4],\n",
    "[10,11,12,13,14],\n",
    "[20,21,21,22,24],\n",
    "[30,31,32,33,34]])\n",
    "print(data)"
   ]
  },
  {
   "cell_type": "code",
   "execution_count": 84,
   "id": "87274dcf-c0f5-43b1-914b-db6e68c722e1",
   "metadata": {},
   "outputs": [
    {
     "data": {
      "text/plain": [
       "array([[11, 12],\n",
       "       [21, 21]])"
      ]
     },
     "execution_count": 84,
     "metadata": {},
     "output_type": "execute_result"
    }
   ],
   "source": [
    "# items 11,12,21,22\n",
    "data[1:3,1:3]"
   ]
  },
  {
   "cell_type": "code",
   "execution_count": 85,
   "id": "e1839a18-7eb8-4bc1-be9b-c7fe6d488c22",
   "metadata": {},
   "outputs": [
    {
     "data": {
      "text/plain": [
       "array([[ 0,  1,  2,  3,  4],\n",
       "       [20, 21, 21, 22, 24]])"
      ]
     },
     "execution_count": 85,
     "metadata": {},
     "output_type": "execute_result"
    }
   ],
   "source": [
    "#rows 0,2 , all columns\n",
    "data[[0,2],:]"
   ]
  },
  {
   "cell_type": "code",
   "execution_count": 87,
   "id": "3882fe97-b437-4102-819e-ac150d90d38b",
   "metadata": {},
   "outputs": [
    {
     "data": {
      "text/plain": [
       "array([[ 2,  3],\n",
       "       [12, 13],\n",
       "       [21, 22],\n",
       "       [32, 33]])"
      ]
     },
     "execution_count": 87,
     "metadata": {},
     "output_type": "execute_result"
    }
   ],
   "source": [
    "#all rows, columns 2-3\n",
    "data[:,2:4]"
   ]
  },
  {
   "cell_type": "code",
   "execution_count": 89,
   "id": "01057d6a-1efb-4676-aae6-4a702d2f5d70",
   "metadata": {},
   "outputs": [
    {
     "data": {
      "text/plain": [
       "array([[ 2,  4],\n",
       "       [12, 14],\n",
       "       [21, 24],\n",
       "       [32, 34]])"
      ]
     },
     "execution_count": 89,
     "metadata": {},
     "output_type": "execute_result"
    }
   ],
   "source": [
    "#all rows, columns 2,4 \n",
    "data[:,[2,4]]"
   ]
  },
  {
   "cell_type": "code",
   "execution_count": null,
   "id": "7ecd594a-c972-41fa-a22a-559174f874a8",
   "metadata": {},
   "outputs": [],
   "source": []
  },
  {
   "cell_type": "markdown",
   "id": "6a3a773a-e9ac-46f2-b019-eaf989b1461c",
   "metadata": {},
   "source": [
    "### Array reshaping"
   ]
  },
  {
   "cell_type": "code",
   "execution_count": 79,
   "id": "2520f93c-8678-42bc-b6f1-5aecd8cff9b7",
   "metadata": {},
   "outputs": [
    {
     "name": "stdout",
     "output_type": "stream",
     "text": [
      "data=\n",
      "[[11 22]\n",
      " [33 44]\n",
      " [55 66]]\n",
      "data dimensions: (3, 2)\n",
      "Rows: 3\n",
      "Cols: 2\n"
     ]
    }
   ],
   "source": [
    "data = np.array([[11, 22],\n",
    "[33, 44],\n",
    "[55, 66]])\n",
    "print(f\"data=\\n{data}\")\n",
    "print(f\"data dimensions: {data.shape}\")\n",
    "print(f\"Rows: {data.shape[0]}\")\n",
    "print(f\"Cols: {data.shape[1]}\")"
   ]
  },
  {
   "cell_type": "code",
   "execution_count": 94,
   "id": "44e3ef7f-234d-411b-8e50-5f28b8312683",
   "metadata": {},
   "outputs": [
    {
     "name": "stdout",
     "output_type": "stream",
     "text": [
      "[11 22 33 44 55]\n",
      "shape (5,)\n",
      "[[11]\n",
      " [22]\n",
      " [33]\n",
      " [44]\n",
      " [55]]\n",
      "shape (5, 1)\n"
     ]
    }
   ],
   "source": [
    "# reshape 1D array to 2D\n",
    "data = np.array([11, 22, 33, 44, 55])\n",
    "print(data)\n",
    "print(\"shape\",data.shape)\n",
    "\n",
    "data = data.reshape((data.shape[0], 1))\n",
    "print(data)\n",
    "print(\"shape\",data.shape)"
   ]
  },
  {
   "cell_type": "code",
   "execution_count": 97,
   "id": "9ca85575-8305-40ee-b455-1488baa08f1c",
   "metadata": {},
   "outputs": [
    {
     "name": "stdout",
     "output_type": "stream",
     "text": [
      "[[11 22]\n",
      " [33 44]\n",
      " [55 66]]\n",
      "dim-> (3, 2)\n",
      "[[[11]\n",
      "  [22]]\n",
      "\n",
      " [[33]\n",
      "  [44]]\n",
      "\n",
      " [[55]\n",
      "  [66]]]\n",
      "dim-> (3, 2, 1)\n"
     ]
    }
   ],
   "source": [
    "# reshape 2D array to 3D\n",
    "data = np.array([[11, 22],\n",
    "[33, 44],\n",
    "[55, 66]])\n",
    "print(data)\n",
    "print(\"dim->\",data.shape)\n",
    "# reshape\n",
    "data = data.reshape((data.shape[0], data.shape[1], 1))\n",
    "print(data)\n",
    "print(\"dim->\",data.shape)"
   ]
  },
  {
   "cell_type": "code",
   "execution_count": null,
   "id": "4b908150-444e-4370-bb6b-149777da09ed",
   "metadata": {},
   "outputs": [],
   "source": []
  }
 ],
 "metadata": {
  "kernelspec": {
   "display_name": "Python 3",
   "language": "python",
   "name": "python3"
  },
  "language_info": {
   "codemirror_mode": {
    "name": "ipython",
    "version": 3
   },
   "file_extension": ".py",
   "mimetype": "text/x-python",
   "name": "python",
   "nbconvert_exporter": "python",
   "pygments_lexer": "ipython3",
   "version": "3.8.8"
  }
 },
 "nbformat": 4,
 "nbformat_minor": 5
}
