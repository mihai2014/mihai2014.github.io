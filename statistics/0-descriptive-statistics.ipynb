{
 "cells": [
  {
   "cell_type": "markdown",
   "id": "dca61d99-68cf-4763-a51e-c2af4995b518",
   "metadata": {},
   "source": [
    "### Descriptive statistics"
   ]
  },
  {
   "cell_type": "code",
   "execution_count": 1,
   "id": "aac47e75-7e9b-4ad8-8961-4f104dfc8a8f",
   "metadata": {},
   "outputs": [],
   "source": [
    "import numpy as np\n",
    "from scipy import stats"
   ]
  },
  {
   "cell_type": "markdown",
   "id": "64a9012d-38f5-4767-a3f9-0940d5f6dbef",
   "metadata": {},
   "source": [
    "### Average - Measures of central tendencies of a set of numbers"
   ]
  },
  {
   "cell_type": "markdown",
   "id": "d1198936-bd0c-4fc4-8286-39fad4602bd7",
   "metadata": {},
   "source": [
    "    mean(aritmetic mea,average) = sum of numbers / nr of numbers\n",
    "    median = middle number (or mean of two at the middle)\n",
    "    mode = most common (frequent number)\n",
    "    median and mode are useful ehen aritmetic mean is skewed by the unbalanced distribution of numbers"
   ]
  },
  {
   "cell_type": "code",
   "execution_count": 2,
   "id": "5b6189c0-cba1-41ab-83ca-5fc7f84261e2",
   "metadata": {},
   "outputs": [
    {
     "name": "stdout",
     "output_type": "stream",
     "text": [
      "mean = 3.6666666666666665\n",
      "median = 3.5\n",
      "mode = ModeResult(mode=array([1]), count=array([2]))\n",
      "median =  [3.5]\n"
     ]
    }
   ],
   "source": [
    "data = np.array([1,1,3,4,6,7])\n",
    "print(f\"mean = {np.mean(data)}\\nmedian = {np.median(data)}\\nmode = {stats.mode(data)}\")\n",
    "print(\"median = \",np.percentile(data, [50]))"
   ]
  },
  {
   "cell_type": "code",
   "execution_count": 3,
   "id": "972abd18-5f55-4d8c-8a27-3fbe3ea01343",
   "metadata": {},
   "outputs": [
    {
     "data": {
      "text/plain": [
       "ModeResult(mode=array([2]), count=array([3]))"
      ]
     },
     "execution_count": 3,
     "metadata": {},
     "output_type": "execute_result"
    }
   ],
   "source": [
    "stats.mode([2,2,2,3,3,3,4,4,4])"
   ]
  },
  {
   "cell_type": "markdown",
   "id": "a2b8a650-a910-4944-97e2-9e53a4c956a0",
   "metadata": {},
   "source": [
    "    IQR(inter quartile range) = \n",
    "    difference between middle of 1st half of data and middle of 2nd half of data"
   ]
  },
  {
   "cell_type": "code",
   "execution_count": 4,
   "id": "2cf9fe5c-020e-46bb-ace2-d0a8419d8f57",
   "metadata": {},
   "outputs": [
    {
     "name": "stdout",
     "output_type": "stream",
     "text": [
      "iqr = 12.0 - 6.0 = 6.0\n",
      "iqr = 12.0 - 6.0 = 6.0\n",
      "iqr =  6.0\n"
     ]
    }
   ],
   "source": [
    "data = np.array([4,4,6,7,10,11,12,14,15])\n",
    "#                |__________|___________|\n",
    "\n",
    "#‘midpoint’: (i + j) / 2.\n",
    "\n",
    "q75, q25 = np.percentile(data,[75,25],interpolation=\"midpoint\")\n",
    "iqr = q75 - q25\n",
    "print(f\"iqr = {q75} - {q25} = {iqr}\")\n",
    "\n",
    "#default interpolation='linear': i + (j - i) * fraction, \n",
    "#where fraction is the fractional part of the index surrounded by i and j.\n",
    "\n",
    "q75, q25 = np.percentile(data, [75 ,25])\n",
    "iqr = q75 - q25\n",
    "print(f\"iqr = {q75} - {q25} = {iqr}\")\n",
    "print(\"iqr = \",stats.iqr(data))"
   ]
  },
  {
   "cell_type": "code",
   "execution_count": 5,
   "id": "695d7f94-b877-4856-af62-efc6272af40c",
   "metadata": {},
   "outputs": [
    {
     "data": {
      "text/plain": [
       "array([ 0.5, 50.5])"
      ]
     },
     "execution_count": 5,
     "metadata": {},
     "output_type": "execute_result"
    }
   ],
   "source": [
    "np.percentile([0,1,100], [25,75])"
   ]
  },
  {
   "cell_type": "code",
   "execution_count": 6,
   "id": "42c5d184-090a-4889-9d50-cbe6c0773830",
   "metadata": {},
   "outputs": [
    {
     "name": "stdout",
     "output_type": "stream",
     "text": [
      "iqr = 11.5 - 9.5 = 2.0\n",
      "iqr = 11.75 - 9.25 = 2.5\n",
      "iqr =  2.5\n"
     ]
    }
   ],
   "source": [
    "#7,9,9,10,10,10,11,12,12,14\n",
    "#         ----- \n",
    "#|__________||____________|\n",
    "\n",
    "data = [7,9,9,10,10,10,11,12,12,14]\n",
    "\n",
    "#‘midpoint’: (i + j) / 2.\n",
    "\n",
    "q75, q25 = np.percentile(data,[75,25],interpolation=\"midpoint\")\n",
    "iqr = q75 - q25\n",
    "print(f\"iqr = {q75} - {q25} = {iqr}\")\n",
    "\n",
    "#default interpolation='linear': i + (j - i) * fraction, \n",
    "#where fraction is the fractional part of the index surrounded by i and j.\n",
    "\n",
    "q75, q25 = np.percentile(data,[75,25])\n",
    "iqr = q75 - q25\n",
    "print(f\"iqr = {q75} - {q25} = {iqr}\")\n",
    "print(\"iqr = \",stats.iqr(data))"
   ]
  },
  {
   "cell_type": "code",
   "execution_count": null,
   "id": "856cde81-df9c-4eeb-b6b7-b1798aab0cc7",
   "metadata": {},
   "outputs": [],
   "source": []
  },
  {
   "cell_type": "markdown",
   "id": "25561d46-09e8-4df7-987a-794ff9feeeb8",
   "metadata": {},
   "source": [
    "### The spreading of data: Range, Variance, Standard deviation - as measures of data dispersion"
   ]
  },
  {
   "cell_type": "code",
   "execution_count": 10,
   "id": "7244e9bc-3992-49d7-85fc-b455b98e348d",
   "metadata": {},
   "outputs": [
    {
     "name": "stdout",
     "output_type": "stream",
     "text": [
      "mean data1: 10.0\n",
      "mean data2: 10.0\n",
      "range data1: 40\n",
      "range data2: 4\n"
     ]
    }
   ],
   "source": [
    "data1 = np.array([-10,0,10,20,30])\n",
    "data2 = np.array([8,9,10,11,12])\n",
    "\n",
    "print(\"mean data1:\",np.mean(data1))\n",
    "print(\"mean data2:\",np.mean(data2))\n",
    "print(\"range data1:\",np.ptp(data1))\n",
    "print(\"range data2:\",np.ptp(data2))"
   ]
  },
  {
   "cell_type": "markdown",
   "id": "d79b751c-06cb-44ad-942e-aad70e873e92",
   "metadata": {},
   "source": [
    "<p>Population variance = $\\sigma^2$</p>\n",
    "<p>$\\sigma^2 = \\frac{1}{N}\\sum_{i=1}^n(x_{i}-\\mu)^2$, where $\\mu $ - the population mean and N - the number of data points</p>\n",
    "<p>Standard Deviation = $\\sqrt{variance}=\\sigma$</p>"
   ]
  },
  {
   "cell_type": "code",
   "execution_count": 16,
   "id": "94792dcb-e84f-4618-80bc-7eec018323e4",
   "metadata": {},
   "outputs": [
    {
     "data": {
      "text/plain": [
       "200.0"
      ]
     },
     "execution_count": 16,
     "metadata": {},
     "output_type": "execute_result"
    }
   ],
   "source": [
    "variance1 = np.mean((data1-np.mean(data1))**2)\n",
    "print(variance1)"
   ]
  },
  {
   "cell_type": "code",
   "execution_count": 19,
   "id": "4e1d02be-9608-4f96-92fe-0a1123ceea66",
   "metadata": {},
   "outputs": [
    {
     "name": "stdout",
     "output_type": "stream",
     "text": [
      "200.0\n"
     ]
    }
   ],
   "source": [
    "variance1 = np.mean(np.power((data1-np.mean(data1)),2))\n",
    "print(variance1)"
   ]
  },
  {
   "cell_type": "code",
   "execution_count": 21,
   "id": "fdf429bc-d4d0-4ab2-96dc-c4564ef8e797",
   "metadata": {},
   "outputs": [
    {
     "name": "stdout",
     "output_type": "stream",
     "text": [
      "200.0\n"
     ]
    }
   ],
   "source": [
    "variance1 = np.var(data1)\n",
    "print(variance1)"
   ]
  },
  {
   "cell_type": "code",
   "execution_count": 22,
   "id": "6cd1cdcc-4b6e-411a-a985-9a673614315f",
   "metadata": {},
   "outputs": [
    {
     "name": "stdout",
     "output_type": "stream",
     "text": [
      "14.142135623730951\n"
     ]
    }
   ],
   "source": [
    "std1 = np.sqrt(variance1)\n",
    "print(std1)"
   ]
  },
  {
   "cell_type": "code",
   "execution_count": 23,
   "id": "3a619ab5-b64d-43a8-a839-1c8972bb37dc",
   "metadata": {},
   "outputs": [
    {
     "name": "stdout",
     "output_type": "stream",
     "text": [
      "14.142135623730951\n"
     ]
    }
   ],
   "source": [
    "std1 = np.std(data1)\n",
    "print(std1)"
   ]
  },
  {
   "cell_type": "code",
   "execution_count": null,
   "id": "5c24a733-0b08-45ec-9193-ec5d0e300868",
   "metadata": {},
   "outputs": [],
   "source": []
  },
  {
   "cell_type": "code",
   "execution_count": 24,
   "id": "7038cf0b-ac89-4690-a4b7-165b57c8dd7b",
   "metadata": {},
   "outputs": [
    {
     "name": "stdout",
     "output_type": "stream",
     "text": [
      "2.0\n"
     ]
    }
   ],
   "source": [
    "variance2 = np.mean((data2-np.mean(data2))**2)\n",
    "print(variance2)"
   ]
  },
  {
   "cell_type": "code",
   "execution_count": 27,
   "id": "ec97f516-5a87-4753-8fc7-7bcf6aa98ec9",
   "metadata": {},
   "outputs": [
    {
     "name": "stdout",
     "output_type": "stream",
     "text": [
      "2.0\n"
     ]
    }
   ],
   "source": [
    "variance2 = np.mean(np.power((data2-np.mean(data2)),2))\n",
    "print(variance2)"
   ]
  },
  {
   "cell_type": "code",
   "execution_count": 28,
   "id": "f2bcf2e9-f5ce-4f3e-90df-927f5bc2b50a",
   "metadata": {},
   "outputs": [
    {
     "name": "stdout",
     "output_type": "stream",
     "text": [
      "2.0\n"
     ]
    }
   ],
   "source": [
    "variance2 = np.var(data2)\n",
    "print(variance2)"
   ]
  },
  {
   "cell_type": "code",
   "execution_count": 29,
   "id": "4927bcb1-e667-4ac5-8295-94af5c4f09ae",
   "metadata": {},
   "outputs": [
    {
     "name": "stdout",
     "output_type": "stream",
     "text": [
      "1.4142135623730951\n"
     ]
    }
   ],
   "source": [
    "std2 = np.sqrt(variance2)\n",
    "print(std2)"
   ]
  },
  {
   "cell_type": "code",
   "execution_count": 30,
   "id": "251663be-0e47-402b-8c08-4a4a1944a14a",
   "metadata": {},
   "outputs": [
    {
     "name": "stdout",
     "output_type": "stream",
     "text": [
      "1.4142135623730951\n"
     ]
    }
   ],
   "source": [
    "std2 = np.std(data2)\n",
    "print(std2)"
   ]
  },
  {
   "cell_type": "code",
   "execution_count": 35,
   "id": "3290ac0d-4c4c-4775-92d1-22723457b8e0",
   "metadata": {},
   "outputs": [
    {
     "name": "stdout",
     "output_type": "stream",
     "text": [
      "mean =  76.22222222222223\n",
      "std =  62.26962480085701\n",
      "meadia =  56.0\n",
      "iqr = 60.0 - 50.0 = 10.0\n",
      "iqr =  10.0\n"
     ]
    }
   ],
   "source": [
    "mydata = np.array([35,50,50,50,56,60,60,75,250])\n",
    "print(\"mean = \",np.mean(mydata))\n",
    "print(\"std = \",np.std(mydata))\n",
    "print(\"meadia = \",np.median(mydata))\n",
    "q75, q25 = np.percentile(mydata,[75,25])\n",
    "iqr = q75 - q25\n",
    "print(f\"iqr = {q75} - {q25} = {iqr}\")\n",
    "print(\"iqr = \",stats.iqr(mydata))"
   ]
  },
  {
   "cell_type": "code",
   "execution_count": null,
   "id": "c1ea846b-9999-4808-a970-f4e45cf5a8f6",
   "metadata": {},
   "outputs": [],
   "source": []
  }
 ],
 "metadata": {
  "kernelspec": {
   "display_name": "Python 3",
   "language": "python",
   "name": "python3"
  },
  "language_info": {
   "codemirror_mode": {
    "name": "ipython",
    "version": 3
   },
   "file_extension": ".py",
   "mimetype": "text/x-python",
   "name": "python",
   "nbconvert_exporter": "python",
   "pygments_lexer": "ipython3",
   "version": "3.8.10"
  }
 },
 "nbformat": 4,
 "nbformat_minor": 5
}
