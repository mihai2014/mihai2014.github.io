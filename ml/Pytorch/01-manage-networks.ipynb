{
 "cells": [
  {
   "cell_type": "markdown",
   "id": "97f7dcac-81da-44a3-9bd6-41e150c0b339",
   "metadata": {},
   "source": [
    "## Custom weights and biases\n",
    "## 2 inputs , 1 output"
   ]
  },
  {
   "cell_type": "markdown",
   "id": "4fbdf877-10a0-4e48-9008-a8067529e7c8",
   "metadata": {},
   "source": [
    "### Linear sum = x * w.T + b\n",
    "### I) custom weights, no bias"
   ]
  },
  {
   "cell_type": "code",
   "execution_count": 2,
   "id": "9be39735-76c2-4263-83ee-e5c912b9c499",
   "metadata": {},
   "outputs": [],
   "source": [
    "import torch\n",
    "from torch import nn"
   ]
  },
  {
   "cell_type": "markdown",
   "id": "45fef821-49c0-4e38-888b-ca616b5d7e27",
   "metadata": {},
   "source": [
    "### Explicit"
   ]
  },
  {
   "cell_type": "code",
   "execution_count": 41,
   "id": "28726c4c-b594-4e46-8ac4-6c61f58a6f54",
   "metadata": {},
   "outputs": [
    {
     "name": "stdout",
     "output_type": "stream",
     "text": [
      "tensor([[1., 2.],\n",
      "        [3., 4.],\n",
      "        [5., 6.]])\n",
      "tensor([[ 1.],\n",
      "        [-1.]])\n",
      "---\n",
      " tensor([[-1.],\n",
      "        [-1.],\n",
      "        [-1.]]) \n",
      "---\n"
     ]
    }
   ],
   "source": [
    "x = torch.Tensor([[1, 2],[3,4],[5,6]])\n",
    "w = torch.Tensor([[1], [-1]])\n",
    "print(x)\n",
    "print(w)\n",
    "out = torch.mm(x,w)\n",
    "print(\"---\\n\",out,\"\\n---\")"
   ]
  },
  {
   "cell_type": "markdown",
   "id": "ee87d708-fe49-42f0-baa5-4cb1cf5c2836",
   "metadata": {},
   "source": [
    "### Linear"
   ]
  },
  {
   "cell_type": "code",
   "execution_count": 42,
   "id": "77a0706a-0bca-4587-87d8-52058cc6e18a",
   "metadata": {},
   "outputs": [
    {
     "name": "stdout",
     "output_type": "stream",
     "text": [
      "OrderedDict([('weight', tensor([[-0.6404, -0.5404]]))])\n",
      "Linear(in_features=2, out_features=1, bias=False)\n",
      "tensor([[1., 2.],\n",
      "        [3., 4.],\n",
      "        [5., 6.]])\n",
      "tensor([[ 1.],\n",
      "        [-1.]], grad_fn=<PermuteBackward>)\n",
      "OrderedDict([('weight', tensor([[ 1., -1.]]))])\n",
      "---\n",
      " tensor([[-1.],\n",
      "        [-1.],\n",
      "        [-1.]], grad_fn=<MmBackward>) \n",
      "---\n"
     ]
    }
   ],
   "source": [
    "# y = x * w.T + b       \n",
    "#        nn.Linear(input,neurons)    \n",
    "lin0 = nn.Linear(2, 1, bias = False)\n",
    "print(lin0.state_dict())\n",
    "lin0.load_state_dict( {'weight': torch.tensor( [[1, -1]] )})\n",
    "print(lin0)\n",
    "out = lin0(x)\n",
    "print(x)\n",
    "print(lin0.weight.T)\n",
    "print(lin0.state_dict())\n",
    "print(\"---\\n\",out,\"\\n---\")"
   ]
  },
  {
   "cell_type": "code",
   "execution_count": 36,
   "id": "f2280127-75b7-46aa-893e-28ff7017ac7c",
   "metadata": {},
   "outputs": [
    {
     "name": "stdout",
     "output_type": "stream",
     "text": [
      "OrderedDict([('weight', tensor([[ 1., -1.]]))])\n"
     ]
    }
   ],
   "source": [
    "#serialize(save/restore)\n",
    "##https://pytorch.org/tutorials/beginner/saving_loading_models.html\n",
    "\n",
    "PATH = \"lin0.txt\"\n",
    "torch.save(lin0.state_dict(), PATH)\n",
    "#net = TheModelClass(*args, **kwargs)\n",
    "lin0.load_state_dict(torch.load(PATH))\n",
    "print(lin0.state_dict())"
   ]
  },
  {
   "cell_type": "markdown",
   "id": "bec59d6e-9541-4bf0-9344-c9cbae578b35",
   "metadata": {},
   "source": [
    "### Sequential"
   ]
  },
  {
   "cell_type": "code",
   "execution_count": 43,
   "id": "3eca4da2-a420-4289-b8ec-bc8fe38ac5cc",
   "metadata": {},
   "outputs": [
    {
     "name": "stdout",
     "output_type": "stream",
     "text": [
      "Sequential(\n",
      "  (0): Linear(in_features=2, out_features=1, bias=False)\n",
      ")\n",
      "OrderedDict([('0.weight', tensor([[-0.5359, -0.3547]]))])\n",
      "tensor([[1., 2.],\n",
      "        [3., 4.],\n",
      "        [5., 6.]])\n",
      "tensor([[ 1.],\n",
      "        [-1.]])\n",
      "---\n",
      " tensor([[-1.],\n",
      "        [-1.],\n",
      "        [-1.]], grad_fn=<MmBackward>) \n",
      "---\n"
     ]
    }
   ],
   "source": [
    "net = nn.Sequential(nn.Linear(2, 1, bias=False),  \n",
    "                   )    \n",
    "print(net)\n",
    "\n",
    "weight_dict = net.state_dict()\n",
    "print(weight_dict)\n",
    "net.load_state_dict( {'0.weight': torch.tensor( [[1, -1]] )})\n",
    "\n",
    "print(x)\n",
    "print(net[0].weight.data.T)\n",
    "print(\"---\\n\",net(x),\"\\n---\")"
   ]
  },
  {
   "cell_type": "code",
   "execution_count": 39,
   "id": "c14d9d1a-21ed-42a2-9400-cd50b3746f1b",
   "metadata": {},
   "outputs": [
    {
     "name": "stdout",
     "output_type": "stream",
     "text": [
      "OrderedDict([('0.weight', tensor([[ 1., -1.]]))])\n"
     ]
    }
   ],
   "source": [
    "#serialize(save/restore)\n",
    "##https://pytorch.org/tutorials/beginner/saving_loading_models.html\n",
    "\n",
    "PATH = \"net.txt\"\n",
    "torch.save(net.state_dict(), PATH)\n",
    "#net = TheModelClass(*args, **kwargs)\n",
    "net.load_state_dict(torch.load(PATH))\n",
    "print(net.state_dict())"
   ]
  },
  {
   "cell_type": "code",
   "execution_count": null,
   "id": "226db9bf-ebff-41f1-bc1c-a5649ebe1963",
   "metadata": {},
   "outputs": [],
   "source": []
  },
  {
   "cell_type": "markdown",
   "id": "791fb3df-1484-41db-bce1-134a7f60c3de",
   "metadata": {},
   "source": [
    "### II) Random weights, no bias"
   ]
  },
  {
   "cell_type": "markdown",
   "id": "ca74cd38-d994-4767-b67d-319e1c0d92d0",
   "metadata": {},
   "source": [
    "### Explicit"
   ]
  },
  {
   "cell_type": "code",
   "execution_count": 64,
   "id": "2a82fd17-2b2f-4a27-966f-3eae82545bed",
   "metadata": {},
   "outputs": [
    {
     "name": "stdout",
     "output_type": "stream",
     "text": [
      "tensor([[1., 2.],\n",
      "        [3., 4.],\n",
      "        [5., 6.]])\n",
      "tensor([[0.6614],\n",
      "        [0.2669]], requires_grad=True)\n",
      "tensor([[0.0617]], requires_grad=True)\n",
      "---\n",
      " tensor([[1.1952],\n",
      "        [3.0518],\n",
      "        [4.9083]], grad_fn=<MmBackward>) \n",
      "---\n"
     ]
    }
   ],
   "source": [
    "torch.manual_seed(1);\n",
    "\n",
    "# Define the size of each layer in our network\n",
    "n_input = 2    # Number of input units, must match number of input features\n",
    "n_hidden = 1   # Number of hidden units \n",
    "n_output = 1   # Number of output units\n",
    "\n",
    "# Weights for inputs to hidden layer\n",
    "w = torch.randn(n_input, n_hidden, dtype=torch.float, requires_grad=True)\n",
    "\n",
    "# and bias terms for hidden and output layers\n",
    "#b = torch.randn(1, n_hidden, dtype=torch.float, requires_grad=True)\n",
    "\n",
    "out = torch.mm(x,w)\n",
    "\n",
    "print(x)\n",
    "print(w)\n",
    "print(b)\n",
    "print(\"---\\n\",out,\"\\n---\")"
   ]
  },
  {
   "cell_type": "markdown",
   "id": "473aaa67-0339-4940-a2db-8eaa94741b15",
   "metadata": {},
   "source": [
    "### Linear"
   ]
  },
  {
   "cell_type": "code",
   "execution_count": 62,
   "id": "acc3cd43-9789-4a52-af88-d1ab9b3eb3c4",
   "metadata": {},
   "outputs": [
    {
     "name": "stdout",
     "output_type": "stream",
     "text": [
      "OrderedDict([('weight', tensor([[ 0.3643, -0.3121]]))])\n",
      "Linear(in_features=2, out_features=1, bias=False)\n",
      "tensor([[1., 2.],\n",
      "        [3., 4.],\n",
      "        [5., 6.]])\n",
      "tensor([[0.6614],\n",
      "        [0.2669]], grad_fn=<PermuteBackward>)\n",
      "OrderedDict([('weight', tensor([[0.6614, 0.2669]]))])\n",
      "---\n",
      " tensor([[1.1952],\n",
      "        [3.0518],\n",
      "        [4.9083]], grad_fn=<MmBackward>) \n",
      "---\n"
     ]
    }
   ],
   "source": [
    "torch.manual_seed(1);\n",
    "\n",
    "# y = x * w.T + b       \n",
    "#        nn.Linear(input,neurons)    \n",
    "lin0 = nn.Linear(2, 1, bias = False)\n",
    "print(lin0.state_dict())\n",
    "#see how are initialized by default weights:\n",
    "#https://pytorch.org/docs/stable/generated/torch.nn.Linear.html\n",
    "lin0.load_state_dict( {'weight': w.T})\n",
    "print(lin0)\n",
    "out = lin0(x)\n",
    "print(x)\n",
    "print(lin0.weight.T)\n",
    "print(lin0.state_dict())\n",
    "print(\"---\\n\",out,\"\\n---\")"
   ]
  },
  {
   "cell_type": "markdown",
   "id": "ebe1b58a-718d-49cc-a19f-cf9387223e9d",
   "metadata": {},
   "source": [
    "### Sequential"
   ]
  },
  {
   "cell_type": "code",
   "execution_count": 67,
   "id": "18eeb3ca-d110-459f-9ccb-70b5708ce4c8",
   "metadata": {},
   "outputs": [
    {
     "name": "stdout",
     "output_type": "stream",
     "text": [
      "Sequential(\n",
      "  (0): Linear(in_features=2, out_features=1, bias=False)\n",
      ")\n",
      "OrderedDict([('0.weight', tensor([[-0.1455,  0.3597]]))])\n",
      "tensor([[1., 2.],\n",
      "        [3., 4.],\n",
      "        [5., 6.]])\n",
      "tensor([[0.6614],\n",
      "        [0.2669]])\n",
      "---\n",
      " tensor([[1.1952],\n",
      "        [3.0518],\n",
      "        [4.9083]], grad_fn=<MmBackward>) \n",
      "---\n"
     ]
    }
   ],
   "source": [
    "net = nn.Sequential(nn.Linear(2, 1, bias=False),  \n",
    "                   )    \n",
    "print(net)\n",
    "\n",
    "weight_dict = net.state_dict()\n",
    "print(weight_dict)\n",
    "net.load_state_dict( {'0.weight': w.T })\n",
    "\n",
    "print(x)\n",
    "print(net[0].weight.data.T)\n",
    "print(\"---\\n\",net(x),\"\\n---\")"
   ]
  },
  {
   "cell_type": "code",
   "execution_count": null,
   "id": "88810b4b-b6e1-4638-8d47-97221a75af22",
   "metadata": {},
   "outputs": [],
   "source": []
  },
  {
   "cell_type": "markdown",
   "id": "50af2d7a-dfc8-426f-8078-95cc6acb579a",
   "metadata": {},
   "source": [
    "### III) Random weights and bias"
   ]
  },
  {
   "cell_type": "markdown",
   "id": "bb27b545-e6c3-4477-a28c-da2bfff0f9fb",
   "metadata": {},
   "source": [
    "### Explicit"
   ]
  },
  {
   "cell_type": "code",
   "execution_count": 70,
   "id": "ad6c8dd1-b78b-476b-b7c3-f6ed423c65ae",
   "metadata": {},
   "outputs": [
    {
     "name": "stdout",
     "output_type": "stream",
     "text": [
      "tensor([[1., 2.],\n",
      "        [3., 4.],\n",
      "        [5., 6.]])\n",
      "tensor([[0.6614],\n",
      "        [0.2669]], requires_grad=True)\n",
      "tensor([[0.0617]], requires_grad=True)\n",
      "---\n",
      " tensor([[1.2569],\n",
      "        [3.1134],\n",
      "        [4.9700]], grad_fn=<AddBackward0>) \n",
      "---\n"
     ]
    }
   ],
   "source": [
    "torch.manual_seed(1);\n",
    "\n",
    "# Define the size of each layer in our network\n",
    "n_input = 2    # Number of input units, must match number of input features\n",
    "n_hidden = 1   # Number of hidden units \n",
    "n_output = 1   # Number of output units\n",
    "\n",
    "# Weights for inputs to hidden layer\n",
    "w = torch.randn(n_input, n_hidden, dtype=torch.float, requires_grad=True)\n",
    "\n",
    "# and bias terms for hidden and output layers\n",
    "b = torch.randn(1, n_hidden, dtype=torch.float, requires_grad=True)\n",
    "\n",
    "out = torch.mm(x,w) + b\n",
    "\n",
    "print(x)\n",
    "print(w)\n",
    "print(b)\n",
    "print(\"---\\n\",out,\"\\n---\")"
   ]
  },
  {
   "cell_type": "markdown",
   "id": "afd36b51-9671-43af-869a-a69cbb713624",
   "metadata": {},
   "source": [
    "### Linear"
   ]
  },
  {
   "cell_type": "code",
   "execution_count": 75,
   "id": "eed30a72-4d83-48d0-b793-d10895b6dd8f",
   "metadata": {},
   "outputs": [
    {
     "name": "stdout",
     "output_type": "stream",
     "text": [
      "OrderedDict([('weight', tensor([[ 0.3643, -0.3121]])), ('bias', tensor([-0.1371]))])\n",
      "Linear(in_features=2, out_features=1, bias=True)\n",
      "tensor([[1., 2.],\n",
      "        [3., 4.],\n",
      "        [5., 6.]])\n",
      "tensor([[0.6614],\n",
      "        [0.2669]], grad_fn=<PermuteBackward>)\n",
      "Parameter containing:\n",
      "tensor([0.0617], requires_grad=True)\n",
      "OrderedDict([('weight', tensor([[0.6614, 0.2669]])), ('bias', tensor([0.0617]))])\n",
      "---\n",
      " tensor([[1.2569],\n",
      "        [3.1134],\n",
      "        [4.9700]], grad_fn=<AddmmBackward>) \n",
      "---\n"
     ]
    }
   ],
   "source": [
    "torch.manual_seed(1);\n",
    "\n",
    "# y = x * w.T + b       \n",
    "#        nn.Linear(input,neurons)    \n",
    "lin0 = nn.Linear(2, 1)\n",
    "print(lin0.state_dict())\n",
    "#see how are initialized by default weights:\n",
    "#https://pytorch.org/docs/stable/generated/torch.nn.Linear.html\n",
    "lin0.load_state_dict( {'weight': w.T, 'bias': b[0]})\n",
    "print(lin0)\n",
    "out = lin0(x)\n",
    "print(x)\n",
    "print(lin0.weight.T)\n",
    "print(lin0.bias)\n",
    "print(lin0.state_dict())\n",
    "print(\"---\\n\",out,\"\\n---\")"
   ]
  },
  {
   "cell_type": "markdown",
   "id": "caf9289d-fd46-4a17-b4b0-1fbca930ac33",
   "metadata": {},
   "source": [
    "### Sequential"
   ]
  },
  {
   "cell_type": "code",
   "execution_count": 77,
   "id": "0a6c6c34-325a-4613-b8b2-aa8a163c82c8",
   "metadata": {},
   "outputs": [
    {
     "name": "stdout",
     "output_type": "stream",
     "text": [
      "Sequential(\n",
      "  (0): Linear(in_features=2, out_features=1, bias=True)\n",
      ")\n",
      "OrderedDict([('0.weight', tensor([[-0.1455,  0.3597]])), ('0.bias', tensor([0.0983]))])\n",
      "tensor([[1., 2.],\n",
      "        [3., 4.],\n",
      "        [5., 6.]])\n",
      "tensor([[0.6614],\n",
      "        [0.2669]])\n",
      "Parameter containing:\n",
      "tensor([0.0617], requires_grad=True)\n",
      "---\n",
      " tensor([[1.2569],\n",
      "        [3.1134],\n",
      "        [4.9700]], grad_fn=<AddmmBackward>) \n",
      "---\n"
     ]
    }
   ],
   "source": [
    "net = nn.Sequential(nn.Linear(2, 1),  \n",
    "                   )    \n",
    "print(net)\n",
    "\n",
    "weight_dict = net.state_dict()\n",
    "print(weight_dict)\n",
    "net.load_state_dict( {'0.weight': w.T, '0.bias': b[0]} )\n",
    "\n",
    "print(x)\n",
    "print(net[0].weight.data.T)\n",
    "print(net[0].bias)\n",
    "print(\"---\\n\",net(x),\"\\n---\")"
   ]
  },
  {
   "cell_type": "code",
   "execution_count": null,
   "id": "ff506f8b-0351-413b-8845-41a6aabd9d20",
   "metadata": {},
   "outputs": [],
   "source": []
  },
  {
   "cell_type": "markdown",
   "id": "efd88286-9d37-4a6e-a651-d04321e9f147",
   "metadata": {},
   "source": [
    "### IV) Linear and Sequential custom weights and bias (same value) with 'fill' "
   ]
  },
  {
   "cell_type": "code",
   "execution_count": 81,
   "id": "0e8e94b1-1c81-4aad-a8bf-c1acb65c92f4",
   "metadata": {},
   "outputs": [
    {
     "name": "stdout",
     "output_type": "stream",
     "text": [
      "OrderedDict([('weight', tensor([[1., 1.]])), ('bias', tensor([1.]))])\n"
     ]
    }
   ],
   "source": [
    "lin0 = nn.Linear(2, 1)\n",
    "lin0.weight.data.fill_(1)\n",
    "lin0.bias.data.fill_(1)\n",
    "print(lin0.state_dict())"
   ]
  },
  {
   "cell_type": "code",
   "execution_count": 82,
   "id": "df6eefac-5379-42b0-9ccc-770c7e95ac28",
   "metadata": {},
   "outputs": [
    {
     "name": "stdout",
     "output_type": "stream",
     "text": [
      "OrderedDict([('0.weight', tensor([[1., 1.]])), ('0.bias', tensor([1.]))])\n"
     ]
    }
   ],
   "source": [
    "net = nn.Sequential(nn.Linear(2, 1),  \n",
    "                   )\n",
    "net[0].weight.data.fill_(1)\n",
    "net[0].bias.data.fill_(1)\n",
    "print(net.state_dict())"
   ]
  },
  {
   "cell_type": "code",
   "execution_count": null,
   "id": "1d4bbec4-7033-4fbd-8c61-b4679c036181",
   "metadata": {},
   "outputs": [],
   "source": []
  }
 ],
 "metadata": {
  "kernelspec": {
   "display_name": "Python 3",
   "language": "python",
   "name": "python3"
  },
  "language_info": {
   "codemirror_mode": {
    "name": "ipython",
    "version": 3
   },
   "file_extension": ".py",
   "mimetype": "text/x-python",
   "name": "python",
   "nbconvert_exporter": "python",
   "pygments_lexer": "ipython3",
   "version": "3.9.5"
  }
 },
 "nbformat": 4,
 "nbformat_minor": 5
}
