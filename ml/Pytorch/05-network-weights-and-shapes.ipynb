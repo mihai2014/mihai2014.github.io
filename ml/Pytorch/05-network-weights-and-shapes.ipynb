{
 "cells": [
  {
   "cell_type": "markdown",
   "id": "e433f89e-dcd6-4d40-85eb-706d8c9f3855",
   "metadata": {},
   "source": [
    "### 3 in, 4-3-2 nn layers, 1 out\n",
    "### Network weights matrices multiplication study (III)"
   ]
  },
  {
   "cell_type": "code",
   "execution_count": 1,
   "id": "79ff7ec8-14fd-4ae7-b0eb-937d60b6f6c5",
   "metadata": {},
   "outputs": [],
   "source": [
    "import torch\n",
    "from torch import nn\n",
    "import numpy as np\n",
    "from termcolor import colored"
   ]
  },
  {
   "cell_type": "code",
   "execution_count": 28,
   "id": "c64360b4-7929-497e-b824-ec9285ea1032",
   "metadata": {},
   "outputs": [],
   "source": [
    "#array data points: x1, x2\n",
    "data = np.array([\n",
    "    [1,10,1],\n",
    "    [3,10,0],\n",
    "    [1.8,2.0,0],\n",
    "    [-1,-1,1],\n",
    "    [-2,10,1],\n",
    "])         \n",
    "\n",
    "#features\n",
    "x = torch.from_numpy(data[:, [0,1]]).float()\n",
    "#target/labels\n",
    "y = torch.from_numpy(data[:, [2]]).float()\n",
    "\n",
    "#custom values (neuron weights on rows)\n",
    "w1 = torch.tensor([[0.1000, 0.2000],\n",
    "        [0.1000, 0.2000],\n",
    "        [0.1000, 0.2000],\n",
    "        [0.1000, 0.2000]])\n",
    "\n",
    "w2 = torch.tensor([[0.1000, 0.2000, 0.3000, 0.4000],\n",
    "                   [0.1000, 0.2000, 0.3000, 0.4000],\n",
    "                   [0.1000, 0.2000, 0.3000, 0.4000]])\n",
    "\n",
    "w3 = torch.tensor([[0.1000, 0.2000, 0.3000],\n",
    "                   [0.1000, 0.2000, 0.3000]])\n",
    "\n",
    "w4 = torch.tensor([[0.1000, 0.2000]])\n",
    "\n",
    "\n",
    "\n",
    "b1 = torch.tensor([[0.1, 0.2, 0.3, 0.4]])\n",
    "b2 = torch.tensor([[0.1, 0.2, 0.3]])\n",
    "b3 = torch.tensor([[0.1, 0.2]])\n",
    "b4 = torch.tensor([[0.1]])"
   ]
  },
  {
   "cell_type": "code",
   "execution_count": null,
   "id": "fd4e39d8-bc40-47ce-8636-509964051092",
   "metadata": {},
   "outputs": [],
   "source": []
  },
  {
   "cell_type": "markdown",
   "id": "c9df61b0-2fac-47b5-85f7-52cd98d5e4f7",
   "metadata": {},
   "source": [
    "### Class+Explicit network definition"
   ]
  },
  {
   "cell_type": "code",
   "execution_count": 38,
   "id": "a987ace1-cb45-46fd-9b15-ce39a27aa29f",
   "metadata": {},
   "outputs": [
    {
     "name": "stdout",
     "output_type": "stream",
     "text": [
      "I tensor([[0.9002, 0.9168, 0.6637, 0.4502, 0.8699],\n",
      "        [0.9089, 0.9241, 0.6857, 0.4750, 0.8808],\n",
      "        [0.9168, 0.9309, 0.7068, 0.5000, 0.8909],\n",
      "        [0.9241, 0.9370, 0.7271, 0.5250, 0.9002]])\n",
      "II tensor([[0.7343, 0.7370, 0.6913, 0.6457, 0.7292],\n",
      "        [0.7533, 0.7559, 0.7123, 0.6682, 0.7485],\n",
      "        [0.7714, 0.7739, 0.7323, 0.6900, 0.7668]])\n",
      "III tensor([[0.6354, 0.6358, 0.6298, 0.6237, 0.6348],\n",
      "        [0.6583, 0.6586, 0.6528, 0.6468, 0.6576]])\n",
      "IV tensor([[0.5733, 0.5733, 0.5729, 0.5724, 0.5732]])\n",
      "\u001b[31mtensor([[0.5733],\n",
      "        [0.5733],\n",
      "        [0.5729],\n",
      "        [0.5724],\n",
      "        [0.5732]])\u001b[0m\n"
     ]
    }
   ],
   "source": [
    "class NN:\n",
    "    \n",
    "    def __init__(self, n_input, n_hidden1, n_hidden2, n_hidden3, n_output):\n",
    "\n",
    "        self.w1 = torch.randn(n_input,   n_hidden1, dtype=torch.float, requires_grad=True)\n",
    "        self.w2 = torch.randn(n_hidden1, n_hidden2, dtype=torch.float, requires_grad=True)\n",
    "        self.w3 = torch.randn(n_hidden2, n_hidden3, dtype=torch.float, requires_grad=True)\n",
    "        self.w4 = torch.randn(n_hidden3,  n_output, dtype=torch.float, requires_grad=True)\n",
    "\n",
    "        self.b1 = torch.randn(1, n_hidden1, dtype=torch.float, requires_grad=True)\n",
    "        self.b2 = torch.randn(1, n_hidden2, dtype=torch.float, requires_grad=True)\n",
    "        self.b3 = torch.randn(1, n_hidden3, dtype=torch.float, requires_grad=True)\n",
    "        self.b4 = torch.randn(1,  n_output, dtype=torch.float, requires_grad=True)                \n",
    "        \n",
    "    def forward(self,x):\n",
    "        o = torch.nn.Sigmoid()(torch.mm(w1,x.T)+(b1.T))\n",
    "        print(\"I\",o)\n",
    "        o = torch.nn.Sigmoid()(torch.mm(w2,o)+(b2.T))\n",
    "        print(\"II\",o)\n",
    "        o = torch.nn.Sigmoid()(torch.mm(w3,o)+(b3.T))\n",
    "        print(\"III\",o)\n",
    "        o = torch.nn.Sigmoid()(torch.mm(w4,o)+(b4.T))        \n",
    "        print(\"IV\",o)\n",
    "        return o\n",
    "    \n",
    "net = NN(2,4,3,2,1)\n",
    "\n",
    "#custom weights\n",
    "net.w1 = w1; net.w2 = w2; net.w3 = w3; net.w4 = w4\n",
    "net.b1 = b1; net.b2 = b2; net.b3 = b3; net.b4 = b4\n",
    "\n",
    "print(colored(net.forward(x).T, 'red'))"
   ]
  },
  {
   "cell_type": "markdown",
   "id": "580e8468-c0d0-4aae-8d2c-27c75d2a8643",
   "metadata": {},
   "source": [
    "### Class+Linear network definition"
   ]
  },
  {
   "cell_type": "code",
   "execution_count": 36,
   "id": "a3a7c1b0-b412-4e8f-9661-5baf79f74982",
   "metadata": {},
   "outputs": [
    {
     "name": "stdout",
     "output_type": "stream",
     "text": [
      "OrderedDict([('linear1.weight', tensor([[0.1000, 0.2000],\n",
      "        [0.1000, 0.2000],\n",
      "        [0.1000, 0.2000],\n",
      "        [0.1000, 0.2000]])), ('linear1.bias', tensor([0.1000, 0.2000, 0.3000, 0.4000])), ('linear2.weight', tensor([[0.1000, 0.2000, 0.3000, 0.4000],\n",
      "        [0.1000, 0.2000, 0.3000, 0.4000],\n",
      "        [0.1000, 0.2000, 0.3000, 0.4000]])), ('linear2.bias', tensor([0.1000, 0.2000, 0.3000])), ('linear3.weight', tensor([[0.1000, 0.2000, 0.3000],\n",
      "        [0.1000, 0.2000, 0.3000]])), ('linear3.bias', tensor([0.1000, 0.2000])), ('linear4.weight', tensor([[0.1000, 0.2000]])), ('linear4.bias', tensor([0.1000]))])\n",
      "\u001b[31mtensor([[0.5733],\n",
      "        [0.5733],\n",
      "        [0.5729],\n",
      "        [0.5724],\n",
      "        [0.5732]], grad_fn=<SigmoidBackward>)\u001b[0m\n"
     ]
    }
   ],
   "source": [
    "# relaive to values in \"Network weights matrices multiplication study (III)\":\n",
    "# weights = weights.T \n",
    "\n",
    "# having the explicit network definition above, where\n",
    "# Linear sum = w * x.T + b\n",
    "# row - features   columns - weights\n",
    "# ( w1 w2 ... ) * ( x1 ... ) = (x1w1+x2w2 ...) \n",
    "#   ...             x2 ...      ...\n",
    "#\n",
    "# nn.Linear will use weights, bias (NOT transposed) :\n",
    "# Linear sum = W * x + b\n",
    "\n",
    "\n",
    "\n",
    "class Network(nn.Module):\n",
    "    def __init__(self):\n",
    "        super().__init__()\n",
    "        self.linear1 = nn.Linear(2,4)\n",
    "        self.linear2 = nn.Linear(4,3)\n",
    "        self.linear3 = nn.Linear(3,2)\n",
    "        self.linear4 = nn.Linear(2,1)\n",
    "        \n",
    "        self.activation = nn.Sigmoid()\n",
    "\n",
    "    def forward(self,x):\n",
    "        o = torch.nn.Sigmoid()(self.linear1(x))                \n",
    "        o = torch.nn.Sigmoid()(self.linear2(o))\n",
    "        o = torch.nn.Sigmoid()(self.linear3(o))\n",
    "        o = torch.nn.Sigmoid()(self.linear4(o))\n",
    "        return o\n",
    "\n",
    "net = Network()\n",
    "\n",
    "#print(net)\n",
    "\n",
    "#custom weights\n",
    "net.linear1.load_state_dict( {'weight': w1, 'bias': b1[0]} )\n",
    "net.linear2.load_state_dict( {'weight': w2, 'bias': b2[0]} )\n",
    "net.linear3.load_state_dict( {'weight': w3, 'bias': b3[0]} )\n",
    "net.linear4.load_state_dict( {'weight': w4, 'bias': b4[0]} )\n",
    "#or\n",
    "net.load_state_dict( {\n",
    "                        'linear1.weight': w1, 'linear1.bias': b1[0],\n",
    "                        'linear2.weight': w2, 'linear2.bias': b2[0],\n",
    "                        'linear3.weight': w3, 'linear3.bias': b3[0],\n",
    "                        'linear4.weight': w4, 'linear4.bias': b4[0],\n",
    "                     } )\n",
    "print(net.state_dict())\n",
    "print(colored(net(x), 'red'))"
   ]
  },
  {
   "cell_type": "markdown",
   "id": "ae64c74d-0f6f-4288-8c46-9d06fc7251b2",
   "metadata": {},
   "source": [
    "### Sequential+Linear network definition"
   ]
  },
  {
   "cell_type": "code",
   "execution_count": 37,
   "id": "991962be-91ed-4426-80c2-14d537df3d8b",
   "metadata": {},
   "outputs": [
    {
     "name": "stdout",
     "output_type": "stream",
     "text": [
      "Sequential(\n",
      "  (0): Linear(in_features=2, out_features=4, bias=True)\n",
      "  (1): Sigmoid()\n",
      "  (2): Linear(in_features=4, out_features=3, bias=True)\n",
      "  (3): Sigmoid()\n",
      "  (4): Linear(in_features=3, out_features=2, bias=True)\n",
      "  (5): Sigmoid()\n",
      "  (6): Linear(in_features=2, out_features=1, bias=True)\n",
      "  (7): Sigmoid()\n",
      ")\n",
      "OrderedDict([('0.weight', tensor([[0.1000, 0.2000],\n",
      "        [0.1000, 0.2000],\n",
      "        [0.1000, 0.2000],\n",
      "        [0.1000, 0.2000]])), ('0.bias', tensor([0.1000, 0.2000, 0.3000, 0.4000])), ('2.weight', tensor([[0.1000, 0.2000, 0.3000, 0.4000],\n",
      "        [0.1000, 0.2000, 0.3000, 0.4000],\n",
      "        [0.1000, 0.2000, 0.3000, 0.4000]])), ('2.bias', tensor([0.1000, 0.2000, 0.3000])), ('4.weight', tensor([[0.1000, 0.2000, 0.3000],\n",
      "        [0.1000, 0.2000, 0.3000]])), ('4.bias', tensor([0.1000, 0.2000])), ('6.weight', tensor([[0.1000, 0.2000]])), ('6.bias', tensor([0.1000]))])\n",
      "\u001b[31mtensor([[0.5733],\n",
      "        [0.5733],\n",
      "        [0.5729],\n",
      "        [0.5724],\n",
      "        [0.5732]], grad_fn=<SigmoidBackward>)\u001b[0m\n"
     ]
    }
   ],
   "source": [
    "net = nn.Sequential(nn.Linear(2, 4),\n",
    "                    nn.Sigmoid(),\n",
    "                    nn.Linear(4, 3),\n",
    "                    nn.Sigmoid(),\n",
    "                    nn.Linear(3, 2),\n",
    "                    nn.Sigmoid(),\n",
    "                    nn.Linear(2, 1),\n",
    "                    nn.Sigmoid()\n",
    "                   )\n",
    "\n",
    "print(net)\n",
    "\n",
    "#custom weights\n",
    "net[0].load_state_dict( {'weight': w1, 'bias': b1[0]} )\n",
    "net[2].load_state_dict( {'weight': w2, 'bias': b2[0]} )\n",
    "net[4].load_state_dict( {'weight': w3, 'bias': b3[0]} )\n",
    "net[6].load_state_dict( {'weight': w4, 'bias': b4[0]} )\n",
    "#or\n",
    "net.load_state_dict( {\n",
    "                        '0.weight': w1, '0.bias': b1[0],\n",
    "                        '2.weight': w2, '2.bias': b2[0],\n",
    "                        '4.weight': w3, '4.bias': b3[0],\n",
    "                        '6.weight': w4, '6.bias': b4[0],\n",
    "                     } )\n",
    "print(net.state_dict())\n",
    "print(colored(net(x), 'red'))"
   ]
  },
  {
   "cell_type": "code",
   "execution_count": null,
   "id": "8959e38a-5b38-41fb-9613-f93dd9268b6c",
   "metadata": {},
   "outputs": [],
   "source": []
  }
 ],
 "metadata": {
  "kernelspec": {
   "display_name": "Python 3",
   "language": "python",
   "name": "python3"
  },
  "language_info": {
   "codemirror_mode": {
    "name": "ipython",
    "version": 3
   },
   "file_extension": ".py",
   "mimetype": "text/x-python",
   "name": "python",
   "nbconvert_exporter": "python",
   "pygments_lexer": "ipython3",
   "version": "3.9.5"
  }
 },
 "nbformat": 4,
 "nbformat_minor": 5
}
