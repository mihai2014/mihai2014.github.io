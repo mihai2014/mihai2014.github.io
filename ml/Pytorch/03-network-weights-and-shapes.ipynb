{
 "cells": [
  {
   "cell_type": "markdown",
   "id": "e433f89e-dcd6-4d40-85eb-706d8c9f3855",
   "metadata": {},
   "source": [
    "### 3 in, 4-3-2 nn layers, 1 out\n",
    "### Network weights matrices multiplication study (II)"
   ]
  },
  {
   "cell_type": "code",
   "execution_count": 4,
   "id": "79ff7ec8-14fd-4ae7-b0eb-937d60b6f6c5",
   "metadata": {},
   "outputs": [],
   "source": [
    "import torch\n",
    "from torch import nn\n",
    "import numpy as np\n",
    "from termcolor import colored"
   ]
  },
  {
   "cell_type": "code",
   "execution_count": 5,
   "id": "c64360b4-7929-497e-b824-ec9285ea1032",
   "metadata": {},
   "outputs": [],
   "source": [
    "#array data points: x1, x2\n",
    "data = np.array([\n",
    "    [1,10,1],\n",
    "    [3,10,0],\n",
    "    [1.8,2.0,0],\n",
    "    [-1,-1,1],\n",
    "    [-2,10,1],\n",
    "])         \n",
    "\n",
    "\n",
    "#features\n",
    "x = torch.from_numpy(data[:, [0,1]]).float()\n",
    "#target/labels\n",
    "y = torch.from_numpy(data[:, [2]]).float()"
   ]
  },
  {
   "cell_type": "markdown",
   "id": "38685cbe-4ca6-4f88-bb50-562c66760403",
   "metadata": {},
   "source": [
    "### Explicit network definition"
   ]
  },
  {
   "cell_type": "code",
   "execution_count": 28,
   "id": "2ff38ab5-eb99-4b04-892f-1f30915f26d0",
   "metadata": {},
   "outputs": [
    {
     "name": "stdout",
     "output_type": "stream",
     "text": [
      "torch.Size([2, 4])\n",
      "w1\n",
      " tensor([[-0.9466, -0.3500, -0.5411, -0.1657],\n",
      "        [-0.5217, -2.1662,  0.5265, -1.7769]], requires_grad=True)\n",
      "torch.Size([4, 3])\n",
      "w2\n",
      " tensor([[ 0.8806, -0.6195, -0.7553],\n",
      "        [ 0.0374, -0.2625, -1.4905],\n",
      "        [ 0.1984,  0.8237, -0.1078],\n",
      "        [-0.8962,  0.1353,  0.2844]], requires_grad=True)\n",
      "torch.Size([3, 2])\n",
      "w3\n",
      " tensor([[ 0.8005, -0.9527],\n",
      "        [-0.1611, -1.7626],\n",
      "        [ 0.6495, -0.1336]], requires_grad=True)\n",
      "torch.Size([2, 1])\n",
      "w4\n",
      " tensor([[ 0.1101],\n",
      "        [-0.7226]], requires_grad=True)\n",
      "b1\n",
      " tensor([[ 2.2042, -0.7801,  1.1333,  1.7157]], requires_grad=True)\n",
      "b2\n",
      " tensor([[ 0.2742,  0.6487, -0.8070]], requires_grad=True)\n",
      "b3\n",
      " tensor([[ 0.3954, -0.6365]], requires_grad=True)\n",
      "b5\n",
      " tensor([[0.2616]], requires_grad=True)\n",
      "\u001b[31mtensor([[0.5733],\n",
      "        [0.5733],\n",
      "        [0.5729],\n",
      "        [0.5724],\n",
      "        [0.5732]])\u001b[0m\n"
     ]
    }
   ],
   "source": [
    "# Define the size of each network layer\n",
    "n_input   = 2   # Number of input units, must match number of input features\n",
    "n_hidden1 = 4   # Number of hidden units \n",
    "n_hidden2 = 3   # Number of hidden units \n",
    "n_hidden3 = 2   # Number of hidden units \n",
    "n_output  = 1   # Number of output units\n",
    "\n",
    "w1 = torch.randn(n_input,   n_hidden1, dtype=torch.float, requires_grad=True)\n",
    "w2 = torch.randn(n_hidden1, n_hidden2, dtype=torch.float, requires_grad=True)\n",
    "w3 = torch.randn(n_hidden2, n_hidden3, dtype=torch.float, requires_grad=True)\n",
    "w4 = torch.randn(n_hidden3,  n_output, dtype=torch.float, requires_grad=True)\n",
    "\n",
    "b1 = torch.randn(1, n_hidden1, dtype=torch.float, requires_grad=True)\n",
    "b2 = torch.randn(1, n_hidden2, dtype=torch.float, requires_grad=True)\n",
    "b3 = torch.randn(1, n_hidden3, dtype=torch.float, requires_grad=True)\n",
    "b4 = torch.randn(1,  n_output, dtype=torch.float, requires_grad=True)\n",
    "\n",
    "o = torch.nn.Sigmoid()(torch.mm(x,w1)+(b1))\n",
    "o = torch.nn.Sigmoid()(torch.mm(o,w2)+(b2))\n",
    "o = torch.nn.Sigmoid()(torch.mm(o,w3)+(b3))\n",
    "o = torch.nn.Sigmoid()(torch.mm(o,w4)+(b4))\n",
    "\n",
    "print(w1.shape); print(\"w1\\n\", w1)\n",
    "print(w2.shape); print(\"w2\\n\",w2)\n",
    "print(w3.shape); print(\"w3\\n\",w3)\n",
    "print(w4.shape); print(\"w4\\n\",w4)\n",
    "print(\"b1\\n\",b1); print(\"b2\\n\",b2); print(\"b3\\n\",b3); print(\"b5\\n\",b4)\n",
    "\n",
    "#custom values\n",
    "w1 = torch.tensor([[0.1, 0.1, 0.1, 0.1],\n",
    "                   [0.2, 0.2, 0.2, 0.2]], dtype=torch.float)\n",
    "\n",
    "w2 = torch.tensor([[0.1, 0.1, 0.1],\n",
    "                   [0.2, 0.2, 0.2],\n",
    "                   [0.3, 0.3, 0.3],\n",
    "                   [0.4, 0.4, 0.4]])\n",
    "\n",
    "w3 = torch.tensor([[0.1, 0.1],\n",
    "                   [0.2, 0.2],\n",
    "                   [0.3, 0.3]])\n",
    "\n",
    "w4 = torch.tensor([[0.1],\n",
    "                   [0.2]])\n",
    "\n",
    "\n",
    "b1 = torch.tensor([[0.1, 0.2, 0.3, 0.4]])\n",
    "b2 = torch.tensor([[0.1, 0.2, 0.3]])\n",
    "b3 = torch.tensor([[0.1, 0.2]])\n",
    "b4 = torch.tensor([[0.1]])\n",
    "\n",
    "o = torch.nn.Sigmoid()(torch.mm(x,w1)+(b1))\n",
    "o = torch.nn.Sigmoid()(torch.mm(o,w2)+(b2))\n",
    "o = torch.nn.Sigmoid()(torch.mm(o,w3)+(b3))\n",
    "o = torch.nn.Sigmoid()(torch.mm(o,w4)+(b4))\n",
    "\n",
    "print(colored(o, 'red'))"
   ]
  },
  {
   "cell_type": "markdown",
   "id": "c9df61b0-2fac-47b5-85f7-52cd98d5e4f7",
   "metadata": {},
   "source": [
    "### Class+Explicit network definition"
   ]
  },
  {
   "cell_type": "code",
   "execution_count": 19,
   "id": "a987ace1-cb45-46fd-9b15-ce39a27aa29f",
   "metadata": {},
   "outputs": [
    {
     "name": "stdout",
     "output_type": "stream",
     "text": [
      "\u001b[31mtensor([[0.5733],\n",
      "        [0.5733],\n",
      "        [0.5729],\n",
      "        [0.5724],\n",
      "        [0.5732]])\u001b[0m\n"
     ]
    }
   ],
   "source": [
    "class NN:\n",
    "    \n",
    "    def __init__(self, n_input, n_hidden1, n_hidden2, n_hidden3, n_output):\n",
    "\n",
    "        self.w1 = torch.randn(n_input,   n_hidden1, dtype=torch.float, requires_grad=True)\n",
    "        self.w2 = torch.randn(n_hidden1, n_hidden2, dtype=torch.float, requires_grad=True)\n",
    "        self.w3 = torch.randn(n_hidden2, n_hidden3, dtype=torch.float, requires_grad=True)\n",
    "        self.w4 = torch.randn(n_hidden3,  n_output, dtype=torch.float, requires_grad=True)\n",
    "\n",
    "        self.b1 = torch.randn(1, n_hidden1, dtype=torch.float, requires_grad=True)\n",
    "        self.b2 = torch.randn(1, n_hidden2, dtype=torch.float, requires_grad=True)\n",
    "        self.b3 = torch.randn(1, n_hidden3, dtype=torch.float, requires_grad=True)\n",
    "        self.b4 = torch.randn(1,  n_output, dtype=torch.float, requires_grad=True)                \n",
    "        \n",
    "    def forward(self,x):\n",
    "        o = torch.nn.Sigmoid()(torch.mm(x,w1)+(b1))\n",
    "        o = torch.nn.Sigmoid()(torch.mm(o,w2)+(b2))\n",
    "        o = torch.nn.Sigmoid()(torch.mm(o,w3)+(b3))\n",
    "        o = torch.nn.Sigmoid()(torch.mm(o,w4)+(b4))        \n",
    "        return o\n",
    "    \n",
    "net = NN(2,4,3,2,1)\n",
    "\n",
    "#custom weights\n",
    "net.w1 = w1; net.w2 = w2; net.w3 = w3; net.w4 = w4\n",
    "net.b1 = b1; net.b2 = b2; net.b3 = b3; net.b4 = b4\n",
    "\n",
    "print(colored(net.forward(x), 'red'))"
   ]
  },
  {
   "cell_type": "markdown",
   "id": "580e8468-c0d0-4aae-8d2c-27c75d2a8643",
   "metadata": {},
   "source": [
    "### Class+Linear network definition"
   ]
  },
  {
   "cell_type": "code",
   "execution_count": 26,
   "id": "a3a7c1b0-b412-4e8f-9661-5baf79f74982",
   "metadata": {},
   "outputs": [
    {
     "name": "stdout",
     "output_type": "stream",
     "text": [
      "Network(\n",
      "  (linear1): Linear(in_features=2, out_features=4, bias=True)\n",
      "  (linear2): Linear(in_features=4, out_features=3, bias=True)\n",
      "  (linear3): Linear(in_features=3, out_features=2, bias=True)\n",
      "  (linear4): Linear(in_features=2, out_features=1, bias=True)\n",
      "  (activation): Sigmoid()\n",
      ")\n",
      "OrderedDict([('linear1.weight', tensor([[0.1000, 0.2000],\n",
      "        [0.1000, 0.2000],\n",
      "        [0.1000, 0.2000],\n",
      "        [0.1000, 0.2000]])), ('linear1.bias', tensor([0.1000, 0.2000, 0.3000, 0.4000])), ('linear2.weight', tensor([[0.1000, 0.2000, 0.3000, 0.4000],\n",
      "        [0.1000, 0.2000, 0.3000, 0.4000],\n",
      "        [0.1000, 0.2000, 0.3000, 0.4000]])), ('linear2.bias', tensor([0.1000, 0.2000, 0.3000])), ('linear3.weight', tensor([[0.1000, 0.2000, 0.3000],\n",
      "        [0.1000, 0.2000, 0.3000]])), ('linear3.bias', tensor([0.1000, 0.2000])), ('linear4.weight', tensor([[0.1000, 0.2000]])), ('linear4.bias', tensor([0.1000]))])\n",
      "\u001b[31mtensor([[0.5733],\n",
      "        [0.5733],\n",
      "        [0.5729],\n",
      "        [0.5724],\n",
      "        [0.5732]], grad_fn=<SigmoidBackward>)\u001b[0m\n"
     ]
    }
   ],
   "source": [
    "class Network(nn.Module):\n",
    "    def __init__(self):\n",
    "        super().__init__()\n",
    "        self.linear1 = nn.Linear(2,4)\n",
    "        self.linear2 = nn.Linear(4,3)\n",
    "        self.linear3 = nn.Linear(3,2)\n",
    "        self.linear4 = nn.Linear(2,1)\n",
    "        \n",
    "        self.activation = nn.Sigmoid()\n",
    "\n",
    "    def forward(self,x):\n",
    "        o = torch.nn.Sigmoid()(self.linear1(x))\n",
    "        o = torch.nn.Sigmoid()(self.linear2(o))\n",
    "        o = torch.nn.Sigmoid()(self.linear3(o))\n",
    "        o = torch.nn.Sigmoid()(self.linear4(o))\n",
    "        return o\n",
    "\n",
    "net = Network()\n",
    "\n",
    "print(net)\n",
    "\n",
    "#custom weights\n",
    "net.linear1.load_state_dict( {'weight': w1.T, 'bias': b1[0]} )\n",
    "net.linear2.load_state_dict( {'weight': w2.T, 'bias': b2[0]} )\n",
    "net.linear3.load_state_dict( {'weight': w3.T, 'bias': b3[0]} )\n",
    "net.linear4.load_state_dict( {'weight': w4.T, 'bias': b4[0]} )\n",
    "#or\n",
    "net.load_state_dict( {\n",
    "                        'linear1.weight': w1.T, 'linear1.bias': b1[0],\n",
    "                        'linear2.weight': w2.T, 'linear2.bias': b2[0],\n",
    "                        'linear3.weight': w3.T, 'linear3.bias': b3[0],\n",
    "                        'linear4.weight': w4.T, 'linear4.bias': b4[0],\n",
    "                     } )\n",
    "print(net.state_dict())\n",
    "print(colored(net(x), 'red'))"
   ]
  },
  {
   "cell_type": "markdown",
   "id": "ae64c74d-0f6f-4288-8c46-9d06fc7251b2",
   "metadata": {},
   "source": [
    "### Sequential+Linear network definition"
   ]
  },
  {
   "cell_type": "code",
   "execution_count": 29,
   "id": "991962be-91ed-4426-80c2-14d537df3d8b",
   "metadata": {},
   "outputs": [
    {
     "name": "stdout",
     "output_type": "stream",
     "text": [
      "Sequential(\n",
      "  (0): Linear(in_features=2, out_features=4, bias=True)\n",
      "  (1): Sigmoid()\n",
      "  (2): Linear(in_features=4, out_features=3, bias=True)\n",
      "  (3): Sigmoid()\n",
      "  (4): Linear(in_features=3, out_features=2, bias=True)\n",
      "  (5): Sigmoid()\n",
      "  (6): Linear(in_features=2, out_features=1, bias=True)\n",
      "  (7): Sigmoid()\n",
      ")\n",
      "OrderedDict([('0.weight', tensor([[0.1000, 0.2000],\n",
      "        [0.1000, 0.2000],\n",
      "        [0.1000, 0.2000],\n",
      "        [0.1000, 0.2000]])), ('0.bias', tensor([0.1000, 0.2000, 0.3000, 0.4000])), ('2.weight', tensor([[0.1000, 0.2000, 0.3000, 0.4000],\n",
      "        [0.1000, 0.2000, 0.3000, 0.4000],\n",
      "        [0.1000, 0.2000, 0.3000, 0.4000]])), ('2.bias', tensor([0.1000, 0.2000, 0.3000])), ('4.weight', tensor([[0.1000, 0.2000, 0.3000],\n",
      "        [0.1000, 0.2000, 0.3000]])), ('4.bias', tensor([0.1000, 0.2000])), ('6.weight', tensor([[0.1000, 0.2000]])), ('6.bias', tensor([0.1000]))])\n",
      "\u001b[31mtensor([[0.5733],\n",
      "        [0.5733],\n",
      "        [0.5729],\n",
      "        [0.5724],\n",
      "        [0.5732]], grad_fn=<SigmoidBackward>)\u001b[0m\n"
     ]
    }
   ],
   "source": [
    "net = nn.Sequential(nn.Linear(2, 4),\n",
    "                    nn.Sigmoid(),\n",
    "                    nn.Linear(4, 3),\n",
    "                    nn.Sigmoid(),\n",
    "                    nn.Linear(3, 2),\n",
    "                    nn.Sigmoid(),\n",
    "                    nn.Linear(2, 1),\n",
    "                    nn.Sigmoid()\n",
    "                   )\n",
    "\n",
    "print(net)\n",
    "\n",
    "#custom weights\n",
    "net[0].load_state_dict( {'weight': w1.T, 'bias': b1[0]} )\n",
    "net[2].load_state_dict( {'weight': w2.T, 'bias': b2[0]} )\n",
    "net[4].load_state_dict( {'weight': w3.T, 'bias': b3[0]} )\n",
    "net[6].load_state_dict( {'weight': w4.T, 'bias': b4[0]} )\n",
    "#or\n",
    "net.load_state_dict( {\n",
    "                        '0.weight': w1.T, '0.bias': b1[0],\n",
    "                        '2.weight': w2.T, '2.bias': b2[0],\n",
    "                        '4.weight': w3.T, '4.bias': b3[0],\n",
    "                        '6.weight': w4.T, '6.bias': b4[0],\n",
    "                     } )\n",
    "print(net.state_dict())\n",
    "print(colored(net(x), 'red'))"
   ]
  },
  {
   "cell_type": "code",
   "execution_count": null,
   "id": "8959e38a-5b38-41fb-9613-f93dd9268b6c",
   "metadata": {},
   "outputs": [],
   "source": []
  }
 ],
 "metadata": {
  "kernelspec": {
   "display_name": "Python 3",
   "language": "python",
   "name": "python3"
  },
  "language_info": {
   "codemirror_mode": {
    "name": "ipython",
    "version": 3
   },
   "file_extension": ".py",
   "mimetype": "text/x-python",
   "name": "python",
   "nbconvert_exporter": "python",
   "pygments_lexer": "ipython3",
   "version": "3.9.5"
  }
 },
 "nbformat": 4,
 "nbformat_minor": 5
}
