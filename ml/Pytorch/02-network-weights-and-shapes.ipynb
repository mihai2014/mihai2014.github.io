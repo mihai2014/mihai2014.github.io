{
 "cells": [
  {
   "cell_type": "markdown",
   "id": "e433f89e-dcd6-4d40-85eb-706d8c9f3855",
   "metadata": {},
   "source": [
    "### 2 in, 1 out \n",
    "### Network weights matrices multiplication study (I)"
   ]
  },
  {
   "cell_type": "code",
   "execution_count": 29,
   "id": "79ff7ec8-14fd-4ae7-b0eb-937d60b6f6c5",
   "metadata": {},
   "outputs": [],
   "source": [
    "import torch\n",
    "from torch import nn\n",
    "import numpy as np\n",
    "from termcolor import colored"
   ]
  },
  {
   "cell_type": "code",
   "execution_count": 4,
   "id": "c64360b4-7929-497e-b824-ec9285ea1032",
   "metadata": {},
   "outputs": [],
   "source": [
    "#array data points: x1, x2\n",
    "data = np.array([\n",
    "    [1,10,1],\n",
    "    [3,10,0],\n",
    "    [1.8,2.0,0],\n",
    "    [-1,-1,1],\n",
    "    [-2,10,1],\n",
    "])         \n",
    "\n",
    "\n",
    "#features\n",
    "x = torch.from_numpy(data[:, [0,1]]).float()\n",
    "#target/labels\n",
    "y = torch.from_numpy(data[:, [2]]).float()"
   ]
  },
  {
   "cell_type": "code",
   "execution_count": 31,
   "id": "2ff38ab5-eb99-4b04-892f-1f30915f26d0",
   "metadata": {},
   "outputs": [
    {
     "name": "stdout",
     "output_type": "stream",
     "text": [
      "torch.Size([2, 1]) torch.Size([1, 1])\n",
      "torch.Size([2, 1]) torch.Size([1, 1])\n",
      "tensor([[ 1.0000, 10.0000],\n",
      "        [ 3.0000, 10.0000],\n",
      "        [ 1.8000,  2.0000],\n",
      "        [-1.0000, -1.0000],\n",
      "        [-2.0000, 10.0000]])\n",
      "\u001b[31mtensor([[0.1000],\n",
      "        [0.2000]])\u001b[0m\n",
      "\u001b[31mtensor([[1.]])\u001b[0m\n",
      "tensor([[0.9569],\n",
      "        [0.9644],\n",
      "        [0.8292],\n",
      "        [0.6682],\n",
      "        [0.9427]])\n"
     ]
    }
   ],
   "source": [
    "# Define the size of each layer in our network\n",
    "n_input = 2    # Number of input units, must match number of input features\n",
    "n_hidden = 1   # Number of hidden units \n",
    "n_output = 1   # Number of output units\n",
    "\n",
    "# Weights for inputs to hidden layer\n",
    "w = torch.randn(n_input, n_hidden, dtype=torch.float, requires_grad=True)\n",
    "\n",
    "# and bias terms for hidden and output layers\n",
    "b = torch.randn(1, n_hidden, dtype=torch.float, requires_grad=True)\n",
    "\n",
    "print(w.shape,b.shape)\n",
    "\n",
    "w = torch.tensor([[0.1],\n",
    "                  [0.2]], dtype=torch.float)\n",
    "b = torch.tensor([[  1]], dtype=torch.float)\n",
    "\n",
    "print(w.shape,b.shape)\n",
    "\n",
    "print(x)\n",
    "print(colored(w, 'red'))\n",
    "print(colored(b, 'red'))\n",
    "out = torch.nn.Sigmoid()(torch.mm(x,w)+(b))\n",
    "print(out)"
   ]
  },
  {
   "cell_type": "code",
   "execution_count": 32,
   "id": "a987ace1-cb45-46fd-9b15-ce39a27aa29f",
   "metadata": {},
   "outputs": [
    {
     "name": "stdout",
     "output_type": "stream",
     "text": [
      "tensor([[ 1.0000, 10.0000],\n",
      "        [ 3.0000, 10.0000],\n",
      "        [ 1.8000,  2.0000],\n",
      "        [-1.0000, -1.0000],\n",
      "        [-2.0000, 10.0000]])\n",
      "\u001b[31mtensor([[0.1000],\n",
      "        [0.2000]])\u001b[0m\n",
      "\u001b[31mtensor([[1.]])\u001b[0m\n",
      "tensor([[0.9569],\n",
      "        [0.9644],\n",
      "        [0.8292],\n",
      "        [0.6682],\n",
      "        [0.9427]])\n"
     ]
    }
   ],
   "source": [
    "class NN:\n",
    "    \n",
    "    def __init__(self, inputUnits, hiddenUnits, outputUnits):\n",
    "        # Define the size of each layer in our network\n",
    "        n_input = inputUnits     # Number of input units, must match number of input features\n",
    "        n_hidden = hiddenUnits   # Number of hidden units \n",
    "        n_output = outputUnits   # Number of output units\n",
    "\n",
    "        # Weights for inputs to hidden layer\n",
    "        self.w1 = torch.randn(n_input, n_hidden, dtype=torch.float, requires_grad=True)\n",
    "        # and bias terms for hidden and output layers\n",
    "        self.b1 = torch.randn(1, n_hidden, dtype=torch.float, requires_grad=True)\n",
    "        self.activation = torch.nn.Sigmoid()\n",
    "        \n",
    "    def forward(self,x):\n",
    "        o = self.activation(torch.mm(x,self.w1)+(self.b1))\n",
    "        return o\n",
    "    \n",
    "net = NN(2,1,1)\n",
    "\n",
    "net.w1 = torch.tensor([[0.1],\n",
    "                       [0.2]], dtype=torch.float)\n",
    "net.b1 = torch.tensor([[  1]], dtype=torch.float)\n",
    "\n",
    "print(x)\n",
    "print(colored(net.w1, 'red'))\n",
    "print(colored(net.b1, 'red'))\n",
    "print(net.forward(x))"
   ]
  },
  {
   "cell_type": "code",
   "execution_count": 33,
   "id": "a3a7c1b0-b412-4e8f-9661-5baf79f74982",
   "metadata": {},
   "outputs": [
    {
     "name": "stdout",
     "output_type": "stream",
     "text": [
      "OrderedDict([('linear.weight', tensor([[0.1000, 0.2000]])), ('linear.bias', tensor([1.]))])\n",
      "tensor([[ 1.0000, 10.0000],\n",
      "        [ 3.0000, 10.0000],\n",
      "        [ 1.8000,  2.0000],\n",
      "        [-1.0000, -1.0000],\n",
      "        [-2.0000, 10.0000]])\n",
      "\u001b[31mtensor([[0.1000, 0.2000]])\u001b[0m\n",
      "\u001b[31mtensor([1.])\u001b[0m\n",
      "tensor([[0.9569],\n",
      "        [0.9644],\n",
      "        [0.8292],\n",
      "        [0.6682],\n",
      "        [0.9427]], grad_fn=<SigmoidBackward>)\n"
     ]
    }
   ],
   "source": [
    "class Network(nn.Module):\n",
    "    def __init__(self):\n",
    "        super().__init__()\n",
    "        self.linear = nn.Linear(2,1)\n",
    "        self.activation = nn.Sigmoid()\n",
    "\n",
    "    def forward(self,x):\n",
    "        o = self.linear(x)\n",
    "        o = self.activation(o)\n",
    "        return o\n",
    "\n",
    "net = Network()\n",
    "\n",
    "w = torch.tensor([[0.1],\n",
    "                  [0.2]], dtype=torch.float)\n",
    "b = torch.tensor([[  1]], dtype=torch.float)\n",
    "net.linear.load_state_dict( {'weight': w.T, 'bias': b[0]})\n",
    "print(net.state_dict())\n",
    "\n",
    "print(x)\n",
    "print(colored(net.linear.weight.data, 'red'))\n",
    "print(colored(net.linear.bias.data, 'red'))\n",
    "print(net(x))"
   ]
  },
  {
   "cell_type": "code",
   "execution_count": 35,
   "id": "991962be-91ed-4426-80c2-14d537df3d8b",
   "metadata": {},
   "outputs": [
    {
     "name": "stdout",
     "output_type": "stream",
     "text": [
      "OrderedDict([('0.weight', tensor([[0.1000, 0.2000]])), ('0.bias', tensor([1.]))])\n",
      "tensor([[ 1.0000, 10.0000],\n",
      "        [ 3.0000, 10.0000],\n",
      "        [ 1.8000,  2.0000],\n",
      "        [-1.0000, -1.0000],\n",
      "        [-2.0000, 10.0000]])\n",
      "\u001b[31mtensor([[0.1000, 0.2000]])\u001b[0m\n",
      "\u001b[31mtensor([1.])\u001b[0m\n",
      "tensor([[0.9569],\n",
      "        [0.9644],\n",
      "        [0.8292],\n",
      "        [0.6682],\n",
      "        [0.9427]], grad_fn=<SigmoidBackward>)\n"
     ]
    }
   ],
   "source": [
    "net = nn.Sequential(nn.Linear(2, 1),\n",
    "                    nn.Sigmoid(),\n",
    "                   )\n",
    "\n",
    "\n",
    "w = torch.tensor([[0.1],\n",
    "                  [0.2]], dtype=torch.float)\n",
    "b = torch.tensor([[  1]], dtype=torch.float)\n",
    "net.load_state_dict( {'0.weight': w.T, '0.bias': b[0]} )\n",
    "print(net.state_dict())\n",
    "print(x)\n",
    "print(colored(net[0].weight.data, 'red'))\n",
    "print(colored(net[0].bias.data, 'red'))\n",
    "print(net(x))"
   ]
  },
  {
   "cell_type": "code",
   "execution_count": null,
   "id": "8959e38a-5b38-41fb-9613-f93dd9268b6c",
   "metadata": {},
   "outputs": [],
   "source": []
  }
 ],
 "metadata": {
  "kernelspec": {
   "display_name": "Python 3",
   "language": "python",
   "name": "python3"
  },
  "language_info": {
   "codemirror_mode": {
    "name": "ipython",
    "version": 3
   },
   "file_extension": ".py",
   "mimetype": "text/x-python",
   "name": "python",
   "nbconvert_exporter": "python",
   "pygments_lexer": "ipython3",
   "version": "3.9.5"
  }
 },
 "nbformat": 4,
 "nbformat_minor": 5
}
