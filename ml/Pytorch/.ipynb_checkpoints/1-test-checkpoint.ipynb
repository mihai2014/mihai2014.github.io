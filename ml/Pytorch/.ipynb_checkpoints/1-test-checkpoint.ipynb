{
 "cells": [
  {
   "cell_type": "code",
   "execution_count": null,
   "id": "4e7fecc0-a717-41ee-bf8c-2740e9d37aa2",
   "metadata": {},
   "outputs": [],
   "source": []
  },
  {
   "cell_type": "code",
   "execution_count": 2,
   "id": "ce33fb3a-18af-49aa-8e91-de3b2de40e9d",
   "metadata": {},
   "outputs": [],
   "source": [
    "import torch\n",
    "from torch import nn\n",
    "from torch import optim\n",
    "import numpy as np\n",
    "import pandas as pd\n",
    "import matplotlib.pyplot as plt\n",
    "\n",
    "#predictive\n",
    "torch.manual_seed(1);\n",
    "\n",
    "device = torch.device('cpu')\n",
    "if torch.cuda.is_available():\n",
    "    device = torch.device('cuda')  \n",
    "    \n",
    "#sigmoid explicit\n",
    "def sigmoid(x):\n",
    "    return 1/(1+torch.exp(-x))\n",
    "\n",
    "#sigmoid pre-defined\n",
    "activation = torch.nn.Sigmoid()\n",
    "\n",
    "# Loss (Binary Cross Entropy) error function, explicit def\n",
    "def bce_err(output, target):\n",
    "    return -target * torch.log(output) - (1-target) * torch.log(1-output)\n",
    "\n",
    "#sigmoid + BCELoss (Binary Cross Entropy)\n",
    "criterion = torch.nn.BCEWithLogitsLoss()\n",
    "\n",
    "def state(interval,i,loss,out,y):\n",
    "    if(i%interval == 0):\n",
    "        print(\"\\n========== Epoch\", i,\"==========\")\n",
    "        print(\"loss=\",loss)\n",
    "        accuracy = np.mean( ((out > 0.5)==y).numpy() )\n",
    "        print(\"accuracy=\",accuracy)\n",
    "        \n",
    "#array data points: x1, x2\n",
    "data = np.array([\n",
    "    [1,10,1],\n",
    "    [3,10,0],\n",
    "    [1.8,2.0,0],\n",
    "    [-1,-1,1],\n",
    "    [-2,10,1],\n",
    "])         \n",
    "\n",
    "#df = pd.read_csv('test.csv', header=None)\n",
    "#df = pd.read_csv('data2.csv', header=None)\n",
    "#data = df.to_numpy()        "
   ]
  },
  {
   "cell_type": "code",
   "execution_count": 4,
   "id": "7b09feab-f1db-435c-9f69-ac29c493030d",
   "metadata": {},
   "outputs": [
    {
     "name": "stdout",
     "output_type": "stream",
     "text": [
      "tensor([[ 0.6213],\n",
      "        [-0.4519]], dtype=torch.float64, requires_grad=True)\n",
      "tensor([[-0.1661]], dtype=torch.float64, requires_grad=True)\n",
      "tensor([[0.0169],\n",
      "        [0.0562],\n",
      "        [0.5121],\n",
      "        [0.4169],\n",
      "        [0.0027]], dtype=torch.float64, grad_fn=<SigmoidBackward>)\n"
     ]
    }
   ],
   "source": [
    "#features\n",
    "x = torch.from_numpy(data[:, [0,1]]).double()\n",
    "#target/labels\n",
    "y = torch.from_numpy(data[:, [2]]).double()\n",
    "\n",
    "# Define the size of each layer in our network\n",
    "n_input = 2    # Number of input units, must match number of input features\n",
    "n_hidden = 1   # Number of hidden units \n",
    "n_output = 1   # Number of output units\n",
    "\n",
    "#optional manually set weights\n",
    "#w = torch.tensor([[1],[1]], dtype=torch.float64, requires_grad=True)\n",
    "#b = torch.tensor([[1]], dtype=torch.float64, requires_grad=True)\n",
    "\n",
    "# Weights for inputs to hidden layer\n",
    "w = torch.randn(n_input, n_hidden, dtype=torch.double, requires_grad=True)\n",
    "\n",
    "# and bias terms for hidden and output layers\n",
    "b = torch.randn(1, n_hidden, dtype=torch.double, requires_grad=True)\n",
    "\n",
    "out = torch.nn.Sigmoid()(torch.mm(x,w)+(b))\n",
    "\n",
    "print(w)\n",
    "print(b)\n",
    "print(out)"
   ]
  },
  {
   "cell_type": "code",
   "execution_count": null,
   "id": "9382bf11-a8b1-4715-a9c5-4d726cf6ca71",
   "metadata": {},
   "outputs": [],
   "source": []
  },
  {
   "cell_type": "code",
   "execution_count": 6,
   "id": "18b6bee5-1142-4f6a-b423-c34528d3ba87",
   "metadata": {},
   "outputs": [
    {
     "name": "stdout",
     "output_type": "stream",
     "text": [
      "torch.Size([1, 2])\n"
     ]
    }
   ],
   "source": [
    "#        nn.Linear(input,neurons)    \n",
    "linear = nn.Linear(2, 1)\n",
    "linear.weight\n",
    "print(linear.weight.shape)"
   ]
  },
  {
   "cell_type": "code",
   "execution_count": 8,
   "id": "95f751b8-2c3a-4ec9-9ca8-fc9348a14bde",
   "metadata": {},
   "outputs": [
    {
     "name": "stdout",
     "output_type": "stream",
     "text": [
      "tensor([[-0.4271, -0.1185]])\n",
      "tensor([-0.3050])\n",
      "tensor([[0.1282],\n",
      "        [0.0589],\n",
      "        [0.2124],\n",
      "        [0.5599],\n",
      "        [0.3461]], grad_fn=<SigmoidBackward>)\n"
     ]
    }
   ],
   "source": [
    "#features\n",
    "x = torch.from_numpy(data[:, [0,1]]).float()\n",
    "#target/labels\n",
    "y = torch.from_numpy(data[:, [2]]).float()\n",
    "\n",
    "net = nn.Sequential(nn.Linear(2, 1),\n",
    "                    nn.Sigmoid(),\n",
    "                   )\n",
    "\n",
    "#optional manually set weights\n",
    "#net[0].weight.data.fill_(1)\n",
    "#net[0].bias.data.fill_(1)\n",
    "#net[0].weight.data = torch.tensor([[1, -1]])\n",
    "#net[0].bias.data = torch.tensor([1]\n",
    "\n",
    "print(net[0].weight.data)\n",
    "print(net[0].bias.data)\n",
    "out = net(x)\n",
    "print(out)"
   ]
  },
  {
   "cell_type": "code",
   "execution_count": null,
   "id": "19fdb91a-d958-4b67-9575-e38434109414",
   "metadata": {},
   "outputs": [],
   "source": []
  }
 ],
 "metadata": {
  "kernelspec": {
   "display_name": "Python 3",
   "language": "python",
   "name": "python3"
  },
  "language_info": {
   "codemirror_mode": {
    "name": "ipython",
    "version": 3
   },
   "file_extension": ".py",
   "mimetype": "text/x-python",
   "name": "python",
   "nbconvert_exporter": "python",
   "pygments_lexer": "ipython3",
   "version": "3.9.5"
  }
 },
 "nbformat": 4,
 "nbformat_minor": 5
}
