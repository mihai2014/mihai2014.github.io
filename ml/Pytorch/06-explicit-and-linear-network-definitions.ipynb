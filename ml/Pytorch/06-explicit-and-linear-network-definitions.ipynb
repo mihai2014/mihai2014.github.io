{
 "cells": [
  {
   "cell_type": "markdown",
   "id": "33d35afd-7af9-4256-a0ea-5257b8fe7926",
   "metadata": {},
   "source": [
    "#### Explicit network definition"
   ]
  },
  {
   "cell_type": "code",
   "execution_count": null,
   "id": "caeb2f54-24fd-459d-bfa7-04cc58ac1951",
   "metadata": {},
   "outputs": [],
   "source": [
    "# Sum  = [[x1 x2 ... xn],] * [[w1 ...],] + [[b1 b2 ... bn]]\n",
    "#         ...                 [w2 ...],\n",
    "#                             ...\n",
    "#                             [wn ...]\n",
    "# \n",
    "# Sum =        x         *        w       +       b \n",
    "\n",
    "out = torch.mm(x,w) + b"
   ]
  },
  {
   "cell_type": "markdown",
   "id": "e2698126-52e9-4de0-ab35-fc9443661196",
   "metadata": {},
   "source": [
    "#### nn.Linear network definition"
   ]
  },
  {
   "cell_type": "code",
   "execution_count": null,
   "id": "7aaecdff-c83f-4f1c-af89-b15de775a04e",
   "metadata": {},
   "outputs": [],
   "source": [
    "sum = torch.mm(x,w.T) + b[0]"
   ]
  }
 ],
 "metadata": {
  "kernelspec": {
   "display_name": "Python 3",
   "language": "python",
   "name": "python3"
  },
  "language_info": {
   "codemirror_mode": {
    "name": "ipython",
    "version": 3
   },
   "file_extension": ".py",
   "mimetype": "text/x-python",
   "name": "python",
   "nbconvert_exporter": "python",
   "pygments_lexer": "ipython3",
   "version": "3.9.5"
  }
 },
 "nbformat": 4,
 "nbformat_minor": 5
}
