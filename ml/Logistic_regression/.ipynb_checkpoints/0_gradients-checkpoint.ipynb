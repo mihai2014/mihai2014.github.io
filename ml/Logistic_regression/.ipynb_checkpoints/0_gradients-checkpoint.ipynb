{
 "cells": [
  {
   "cell_type": "markdown",
   "id": "69b9463d-77b5-4c17-b7d6-eecad93253df",
   "metadata": {},
   "source": [
    "### Backpropagation - Gradients computing"
   ]
  },
  {
   "cell_type": "code",
   "execution_count": 1,
   "id": "1b2e9dc9-ba3d-4432-9e05-ebaa588488a2",
   "metadata": {},
   "outputs": [
    {
     "data": {
      "image/png": "[encoded data removed]",
      "text/plain": [
       "<IPython.core.display.Image object>"
      ]
     },
     "execution_count": 1,
     "metadata": {
      "image/png": {
       "width": 600
      }
     },
     "output_type": "execute_result"
    }
   ],
   "source": [
    "from IPython.display import Image\n",
    "Image(filename = \"net3.png\", width=600)"
   ]
  },
  {
   "cell_type": "markdown",
   "id": "41b3d8c7-8d21-4892-8ff9-59c20c897ae6",
   "metadata": {},
   "source": [
    "<p>$\\frac{dLoss}{{dw}_{1}}=\\frac{dLoss}{d\\hat{y}} \\cdot \\frac{d\\hat{y}}{dz} \\cdot \\frac{dz}{dw1}$</p>\n",
    "<p>$\\frac{dLoss}{{dw}_{2}}=\\frac{dLoss}{d\\hat{y}} \\cdot \\frac{d\\hat{y}}{dz} \\cdot \\frac{dz}{dw2}$</p>\n",
    "<p>$\\frac{dLoss}{{db}_{1}}=\\frac{dLoss}{d\\hat{y}} \\cdot \\frac{d\\hat{y}}{dz} \\cdot \\frac{dz}{db}$</p>"
   ]
  },
  {
   "cell_type": "code",
   "execution_count": null,
   "id": "a18a414a-ac2f-4b38-a0aa-3d2c4b8a36e5",
   "metadata": {},
   "outputs": [],
   "source": []
  },
  {
   "cell_type": "markdown",
   "id": "e184eaee-9b8f-4e25-a9e2-67d3f1bd6e2b",
   "metadata": {},
   "source": [
    "${ z }={ w }_{ 1 }{ x }_{ 1 }+{ w }_{ 2 }{ x }_{ 2 }+{ b }\\\\{ \\hat{y} } =\\sigma ({ z }) = \\frac { 1 }{ 1+{ e }^{ -z } }\\\\Loss(Error function)=-y\\cdot ln(\\hat{y})-(1-y)\\cdot ln(1-\\hat{y})$"
   ]
  },
  {
   "cell_type": "markdown",
   "id": "8af26c80-513c-430f-acd2-ed34decce6e7",
   "metadata": {},
   "source": [
    "$\\hat{y}$ is the prediction and y is the target/label of each training data set\n",
    "\n",
    "Loss(Error function) is the measure of network efficacity (grade of similarity between prediction $\\hat{y}$ and y- target/label)\n",
    "\n",
    "<p>Entire Cost function (average of losses of all training sets): $= \\frac{1}{n} \\sum_{i=1}^n Loss = \\overline {Loss} $, where n = nr of training samples </p>\n"
   ]
  },
  {
   "cell_type": "markdown",
   "id": "4f9dada9-e196-4944-b938-8442ac69cdbf",
   "metadata": {},
   "source": [
    "<p>Necessary math preliminaries for gradients evaluation:</p>\n",
    "$$\\frac { dLoss }{ { dw }_{ 1 } }, \\frac { dLoss }{ { dw }_{ 2 } }, \\frac { dLoss }{ { db } }$$"
   ]
  },
  {
   "cell_type": "markdown",
   "id": "6aaa19ca-a453-4985-9688-f62400e8d9c0",
   "metadata": {},
   "source": [
    "<p>1)Derivative of sigmoid function:</p>\n",
    "<p>$\\sigma '(x)=\\frac { d }{ dx } \\frac { 1 }{ 1+{ e }^{ -x } } =\\frac { d }{ dx } { (1+{ e }^{ -x }) }^{ -1 }=-{ (1+{ e }^{ -x }) }^{ -2 }\\cdot ({ -e }^{ -x })=\\frac { { e }^{ -x } }{ { (1+{ e }^{ -x }) }^{ 2 } } =\\frac { 1 }{ 1+{ e }^{ -x } } \\cdot \\frac { { e }^{ -x } }{ 1+{ e }^{ -x } } \\Rightarrow \\\\ \\sigma '(x)=\\sigma (x)(1-\\sigma (x))\\\\ $</p>\n",
    "\n",
    "<p>2)Chain rule:</p>\n",
    "\n",
    "<p>$(f(g(x)))'\\quad =\\quad f'(g(x))\\cdot g'(x)$</p> \n",
    "<p>$\\frac { d }{ dx } f(g(x))=\\frac { d\\, f(g(x)) }{ d\\, g(x) } \\frac { d\\, g(x) }{ dx }$</p>\n",
    "<p>$which\\quad could\\quad be\\quad simplified\\quad to\\quad the\\quad following\\quad conventional\\quad notation$</p> \n",
    "<p>$\\frac { d }{ dx } f(g(x))=\\frac { df }{ dg } \\frac { dg }{ dx }$</p> \n",
    "<p>$or$</p>\n",
    "<p>$\\frac { d }{ dx } (f\\circ g)(x)=\\frac { df }{ dg } \\frac { dg }{ dx }$</p> \n",
    "<p>$and\\quad generalized:$</p> \n",
    "<p>$\\frac { d }{ dx } (f\\circ g\\circ h\\circ i...)(x)=\\frac { df }{ dg } \\frac { dg }{ dh } \\frac { dh }{ di } \\frac { di }{ ... } ...\\frac { ... }{ dx }$</p> \n"
   ]
  },
  {
   "cell_type": "markdown",
   "id": "6d67e6b1-7f57-457c-ade0-bdaeee0d8927",
   "metadata": {},
   "source": [
    "Gradients calculations:"
   ]
  },
  {
   "cell_type": "markdown",
   "id": "8f98fead-d77b-426c-831d-cfccc5219e1e",
   "metadata": {},
   "source": [
    "<p>$\\frac{dLoss}{d\\hat{y}}=-\\frac{d\\,(y\\ln(\\hat{y}))}{d\\hat{y}} -\\frac{d\\,((1-y)\\ln(1-\\hat{y}) )}{d\\hat{y}}=$</p>\n",
    "<p>$=-y\\frac{d}{d\\hat{y}}\\ln{\\hat{y}}-(1-y)\\frac{d}{d\\hat{y}}\\ln{(1-\\hat{y})}=$</p>\n",
    "<p>$=-y\\frac{1}{\\hat{y}}-(1-y)\\frac{1}{1-\\hat(y)}\\frac{d}{d\\hat{y}}(-\\hat{y})=$</p>\n",
    "<p>$=-\\frac{y}{\\hat{y}}+\\frac{1-y}{1-\\hat{y}}$</p>\n",
    "<p></p>\n",
    "<p>$\\frac{d\\,\\hat{y}}{dz}=\\frac{d\\,\\sigma(z)}{dz}=\\sigma(z)(1-\\sigma(z))=\\hat{y}(1-\\hat{y})$</p>\n",
    "<p>$\\frac{dz}{dw1}=\\frac{d}{dw1}(w_{1}x_{1}+w_{2}x_{2}+b)=x_{1}\\frac{d}{dw1}w_{1}+0+0=x_{1}$</p>\n",
    "<p>So:</p>\n",
    "<p>$\\frac{dLoss}{{dw}_{1}}=\\frac{dLoss}{d\\hat{y}} \\cdot \\frac{d\\hat{y}}{dz} \\cdot \\frac{dz}{dw1}=(-\\frac{y}{\\hat{y}}+\\frac{1-y}{1-\\hat{y}}) \\cdot \\hat{y}(1-\\hat{y}) \\cdot x_{1}$</p>\n",
    "<p>$=(\\hat{y}-y)\\cdot x_{1}$</p>\n",
    "<p>Similarly:</p>\n",
    "<p>$\\frac{dLoss}{{dw}_{2}}=(\\hat{y}-y)\\cdot x_{2}$</p>\n",
    "<p>$\\frac{dLoss}{{db}}=(\\hat{y}-y)$</p>"
   ]
  },
  {
   "cell_type": "markdown",
   "id": "1ddc80fb-0b02-4fe3-8326-d5aa956dcb58",
   "metadata": {},
   "source": [
    "Weight adjusting(optimization algorithm):\n",
    "<p>$dw_{1}=\\frac{dLoss}{dw1}=(\\hat{y}-y)x_{1}$</p>\n",
    "<p>$dw_{2}=\\frac{dLoss}{dw2}=(\\hat{y}-y)x_{2}$</p>\n",
    "<p>$db=\\frac{dLoss}{db}=(\\hat{y}-y)$</p>\n",
    "<p>We are using the mean(average $\\overline {dw}$) of dw for all training sets:</p>\n",
    "<p>$w_{1}=w_{1}-alpha\\cdot \\overline {dw_{1}}$</p>\n",
    "<p>$w_{2}=w_{2}-alpha\\cdot \\overline {dw_{2}}$</p>\n",
    "<p>$b=b-alpha\\cdot \\overline {db}$</p>\n",
    "<p>where: alpha = learn rate</p>"
   ]
  },
  {
   "cell_type": "code",
   "execution_count": null,
   "id": "6e6989bf-4ba8-463b-b594-a0959622f882",
   "metadata": {},
   "outputs": [],
   "source": []
  },
  {
   "cell_type": "code",
   "execution_count": null,
   "id": "a62e3359-b095-4443-9ce3-5097d5975949",
   "metadata": {},
   "outputs": [],
   "source": []
  },
  {
   "cell_type": "code",
   "execution_count": null,
   "id": "94be7df4-d1a6-4498-a538-523188831ac1",
   "metadata": {},
   "outputs": [],
   "source": []
  },
  {
   "cell_type": "code",
   "execution_count": null,
   "id": "c842239c-07d0-446c-9020-9511f7991d73",
   "metadata": {},
   "outputs": [],
   "source": []
  },
  {
   "cell_type": "code",
   "execution_count": null,
   "id": "32cc4e69-9d04-48aa-b0b9-ab65dd1a2724",
   "metadata": {},
   "outputs": [],
   "source": []
  }
 ],
 "metadata": {
  "kernelspec": {
   "display_name": "Python 3",
   "language": "python",
   "name": "python3"
  },
  "language_info": {
   "codemirror_mode": {
    "name": "ipython",
    "version": 3
   },
   "file_extension": ".py",
   "mimetype": "text/x-python",
   "name": "python",
   "nbconvert_exporter": "python",
   "pygments_lexer": "ipython3",
   "version": "3.8.10"
  }
 },
 "nbformat": 4,
 "nbformat_minor": 5
}
